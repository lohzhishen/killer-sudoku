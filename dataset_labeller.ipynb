{
 "cells": [
  {
   "cell_type": "markdown",
   "metadata": {},
   "source": [
    "# Dataset labeller\n",
    "---\n",
    "\n",
    "This file contains a widget to assist in the labelling of the data."
   ]
  },
  {
   "cell_type": "code",
   "execution_count": 145,
   "metadata": {},
   "outputs": [],
   "source": [
    "import ipywidgets as widgets\n",
    "from pathlib import Path\n",
    "from shutil import copy\n",
    "from functools import partial\n",
    "from os import remove, walk\n",
    "from IPython.display import clear_output"
   ]
  },
  {
   "cell_type": "code",
   "execution_count": 146,
   "metadata": {},
   "outputs": [],
   "source": [
    "DATASET = Path('Dataset/Raw')\n",
    "OUTPUT = Path('Dataset/Labelled')\n",
    "\n",
    "def save_template(file_name:str, number: str, sum: int, \n",
    "                  top_border: bool, bottom_border: bool, \n",
    "                  left_border: bool, right_border: bool):\n",
    "    input = DATASET/file_name\n",
    "    output = OUTPUT/f\"{0 if len(number) == 0 else number}_{sum}_{1 if top_border else 0}{1 if bottom_border else 0}{1 if left_border else 0}{1 if right_border else 0}_{file_name}\"\n",
    "    copy(input, output)\n",
    "    remove(input)\n",
    "\n",
    "def on_click(context, file_names:list[str], file_name:str, grid):\n",
    "    values = [file_name]\n",
    "    for i in range(6):\n",
    "        values.append(grid[i, 1].value)\n",
    "    save_template(*values)\n",
    "    clear_output()\n",
    "    label(file_names)\n",
    "\n",
    "def label(file_names: list[str]):\n",
    "    if len(file_names) == 0:\n",
    "        return\n",
    "    file_name = file_names.pop()\n",
    "    file_path = DATASET/file_name\n",
    "    image = open(file_path, 'rb').read()\n",
    "    grid = widgets.GridspecLayout(8, 2)\n",
    "    grid[:, 0] = widgets.Image(\n",
    "        value=image,\n",
    "        format='png',\n",
    "        width=300,\n",
    "        height=400,\n",
    "        layout=widgets.Layout(margin='0', padding='0', border='0')\n",
    "    )\n",
    "\n",
    "    grid[0, 1] = widgets.Dropdown(\n",
    "        options=['', '1', '2', '3', '4', '5', '6', '7', '8', '9'],\n",
    "        value='',\n",
    "        description='Number',\n",
    "        disabled=False\n",
    "    )\n",
    "    grid[1, 1] = widgets.IntText(\n",
    "        value=0,\n",
    "        description='Group Sum',\n",
    "        disabled=False\n",
    "    )\n",
    "    checkboxes = ['Top Border', 'Bottom Border', 'Left Border', 'Right Border']\n",
    "    for i, x in enumerate(checkboxes):\n",
    "        grid[2 + i, 1] = widgets.Checkbox(\n",
    "            value=False,\n",
    "            description=x,\n",
    "            dosabled=False,\n",
    "            indent=False\n",
    "        )\n",
    "    grid[6, 1] = widgets.Button(\n",
    "        description='Save',\n",
    "        disabled=False,\n",
    "        button_style='success',\n",
    "        icon='check',\n",
    "        layout=widgets.Layout(width='70%')\n",
    "    )\n",
    "    grid[6, 1].on_click(partial(on_click, file_names=file_names, file_name=file_name, grid=grid))\n",
    "    grid[7, 1] = widgets.Button(\n",
    "        description='Stop',\n",
    "        disabled=False,\n",
    "        button_style='warning',\n",
    "        icon='cross',\n",
    "        layout=widgets.Layout(width='70%')\n",
    "    )\n",
    "    grid[7, 1].on_click(lambda x: exit())\n",
    "    display(grid)\n",
    "    return grid[6, 1]"
   ]
  },
  {
   "cell_type": "code",
   "execution_count": null,
   "metadata": {},
   "outputs": [
    {
     "data": {
      "application/vnd.jupyter.widget-view+json": {
       "model_id": "94eca4e609d74287889532aaee1c833f",
       "version_major": 2,
       "version_minor": 0
      },
      "text/plain": [
       "GridspecLayout(children=(Image(value=b'\\x89PNG\\r\\n\\x1a\\n\\x00\\x00\\x00\\rIHDR\\x00\\x00\\x00N\\x00\\x00\\x00L\\x08\\x02\\x…"
      ]
     },
     "metadata": {},
     "output_type": "display_data"
    },
    {
     "ename": "TypeError",
     "evalue": "label.<locals>.<lambda>() takes 0 positional arguments but 1 was given",
     "output_type": "error",
     "traceback": [
      "\u001b[1;31m---------------------------------------------------------------------------\u001b[0m",
      "\u001b[1;31mTypeError\u001b[0m                                 Traceback (most recent call last)",
      "\u001b[1;31mTypeError\u001b[0m: label.<locals>.<lambda>() takes 0 positional arguments but 1 was given"
     ]
    }
   ],
   "source": [
    "images = []\n",
    "\n",
    "for root, dirs, files in walk(DATASET, topdown=False):\n",
    "   for name in files:\n",
    "      if '.png' in name:\n",
    "         images.append(name)\n",
    "\n",
    "label(images)"
   ]
  },
  {
   "cell_type": "code",
   "execution_count": null,
   "metadata": {},
   "outputs": [],
   "source": []
  }
 ],
 "metadata": {
  "kernelspec": {
   "display_name": "Python 3",
   "language": "python",
   "name": "python3"
  },
  "language_info": {
   "codemirror_mode": {
    "name": "ipython",
    "version": 3
   },
   "file_extension": ".py",
   "mimetype": "text/x-python",
   "name": "python",
   "nbconvert_exporter": "python",
   "pygments_lexer": "ipython3",
   "version": "3.12.1"
  }
 },
 "nbformat": 4,
 "nbformat_minor": 2
}
