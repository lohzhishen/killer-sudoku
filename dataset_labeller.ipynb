{
 "cells": [
  {
   "cell_type": "markdown",
   "metadata": {},
   "source": [
    "# Dataset labeller\n",
    "---\n",
    "\n",
    "This file contains a widget to assist in the labelling of the data."
   ]
  },
  {
   "cell_type": "code",
   "execution_count": 1,
   "metadata": {},
   "outputs": [],
   "source": [
    "import ipywidgets as widgets\n",
    "from pathlib import Path\n",
    "from shutil import copy\n",
    "from functools import partial\n",
    "from os import remove, walk\n",
    "from IPython.display import clear_output"
   ]
  },
  {
   "cell_type": "code",
   "execution_count": 6,
   "metadata": {},
   "outputs": [],
   "source": [
    "DATASET = Path('Models', 'Dataset', 'Wall Recognizer', 'Raw')\n",
    "OUTPUT = Path('Models', 'Dataset', 'Wall Recognizer', 'Labelled')\n",
    "\n",
    "def save_template(file_name:str, top_border: bool, bottom_border: bool, \n",
    "                  left_border: bool, right_border: bool):\n",
    "    input = DATASET/file_name\n",
    "    output = OUTPUT/f\"{1 if top_border else 0}_{1 if bottom_border else 0}_{1 if left_border else 0}_{1 if right_border else 0}_{file_name}\"\n",
    "    copy(input, output)\n",
    "    remove(input)\n",
    "\n",
    "def on_click(context, file_names:list[str], file_name:str, grid):\n",
    "    values = [file_name]\n",
    "    for i in range(4):\n",
    "        values.append(grid[i, 1].value)\n",
    "    save_template(*values)\n",
    "    clear_output()\n",
    "    label(file_names)\n",
    "\n",
    "def label(file_names: list[str]):\n",
    "    if len(file_names) == 0:\n",
    "        return\n",
    "    file_name = file_names.pop()\n",
    "    file_path = DATASET/file_name\n",
    "    image = open(file_path, 'rb').read()\n",
    "    grid = widgets.GridspecLayout(6, 2)\n",
    "    grid[:, 0] = widgets.Image(\n",
    "        value=image,\n",
    "        format='png',\n",
    "        width=300,\n",
    "        height=400,\n",
    "        layout=widgets.Layout(margin='0', padding='0', border='0')\n",
    "    )\n",
    "\n",
    "    checkboxes = ['Top Border', 'Bottom Border', 'Left Border', 'Right Border']\n",
    "    for i, x in enumerate(checkboxes):\n",
    "        grid[i, 1] = widgets.Checkbox(\n",
    "            value=False,\n",
    "            description=x,\n",
    "            dosabled=False,\n",
    "            indent=False\n",
    "        )\n",
    "    grid[4, 1] = widgets.Button(\n",
    "        description='Save',\n",
    "        disabled=False,\n",
    "        button_style='success',\n",
    "        icon='check',\n",
    "        layout=widgets.Layout(width='70%')\n",
    "    )\n",
    "    grid[4, 1].on_click(partial(on_click, file_names=file_names, file_name=file_name, grid=grid))\n",
    "    grid[5, 1] = widgets.Button(\n",
    "        description='Stop',\n",
    "        disabled=False,\n",
    "        button_style='warning',\n",
    "        icon='cross',\n",
    "        layout=widgets.Layout(width='70%')\n",
    "    )\n",
    "    grid[5, 1].on_click(lambda x: exit())\n",
    "    display(grid)\n",
    "    return grid[5, 1]"
   ]
  },
  {
   "cell_type": "code",
   "execution_count": null,
   "metadata": {},
   "outputs": [],
   "source": [
    "images = []\n",
    "\n",
    "for root, dirs, files in walk(DATASET, topdown=False):\n",
    "   for name in files:\n",
    "      if '.png' in name:\n",
    "         images.append(name)\n",
    "\n",
    "_ = label(images)"
   ]
  },
  {
   "cell_type": "code",
   "execution_count": null,
   "metadata": {},
   "outputs": [],
   "source": []
  }
 ],
 "metadata": {
  "kernelspec": {
   "display_name": "Python 3",
   "language": "python",
   "name": "python3"
  },
  "language_info": {
   "codemirror_mode": {
    "name": "ipython",
    "version": 3
   },
   "file_extension": ".py",
   "mimetype": "text/x-python",
   "name": "python",
   "nbconvert_exporter": "python",
   "pygments_lexer": "ipython3",
   "version": "3.12.1"
  }
 },
 "nbformat": 4,
 "nbformat_minor": 2
}
