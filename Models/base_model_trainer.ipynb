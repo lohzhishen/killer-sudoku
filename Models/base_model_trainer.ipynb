{
  "nbformat": 4,
  "nbformat_minor": 0,
  "metadata": {
    "colab": {
      "provenance": []
    },
    "kernelspec": {
      "name": "python3",
      "display_name": "Python 3"
    },
    "language_info": {
      "name": "python"
    }
  },
  "cells": [
    {
      "cell_type": "code",
      "execution_count": 1,
      "metadata": {
        "id": "nnScCwXguLLp"
      },
      "outputs": [],
      "source": [
        "# import deep learning libraries\n",
        "from tensorflow import keras\n",
        "from tensorflow.keras.datasets import mnist\n",
        "\n",
        "# import image display library\n",
        "import matplotlib.pyplot as plt"
      ]
    },
    {
      "cell_type": "code",
      "source": [
        "(x_train, y_train), (x_test, y_test) = mnist.load_data()"
      ],
      "metadata": {
        "id": "0aIJN4RCubmD"
      },
      "execution_count": 2,
      "outputs": []
    },
    {
      "cell_type": "code",
      "source": [
        "plt.figure()\n",
        "for i in range(3):\n",
        "    plt.subplot(1, 3, i + 1)\n",
        "    plt.xticks([])\n",
        "    plt.yticks([])\n",
        "    plt.xlabel(str(y_train[i]))\n",
        "    plt.imshow(x_train[i], cmap='gray', vmin=0, vmax=255)\n",
        "plt.show()"
      ],
      "metadata": {
        "colab": {
          "base_uri": "https://localhost:8080/",
          "height": 202
        },
        "id": "nRj4ZxJmulCW",
        "outputId": "c39d6d56-874e-438d-d771-59172286b612"
      },
      "execution_count": 3,
      "outputs": [
        {
          "output_type": "display_data",
          "data": {
            "text/plain": [
              "<Figure size 640x480 with 3 Axes>"
            ],
            "image/png": "[encoded data removed]"
          },
          "metadata": {}
        }
      ]
    },
    {
      "cell_type": "code",
      "source": [
        "def transform(img):\n",
        "    return 255 - img\n",
        "\n",
        "transformed_x_train = transform(x_train)\n",
        "transformed_x_test = transform(x_test)\n",
        "\n",
        "plt.figure()\n",
        "for i in range(3):\n",
        "    plt.subplot(1, 3, i + 1)\n",
        "    plt.xticks([])\n",
        "    plt.yticks([])\n",
        "    plt.xlabel(str(y_train[i]))\n",
        "    plt.imshow(transformed_x_train[i], cmap='gray', vmin=0, vmax=255)\n",
        "plt.show()"
      ],
      "metadata": {
        "colab": {
          "base_uri": "https://localhost:8080/",
          "height": 202
        },
        "id": "Uaqdpev_xGWy",
        "outputId": "0ccf925d-dc40-4993-baa4-2574bd411ee9"
      },
      "execution_count": 4,
      "outputs": [
        {
          "output_type": "display_data",
          "data": {
            "text/plain": [
              "<Figure size 640x480 with 3 Axes>"
            ],
            "image/png": "[encoded data removed]"
          },
          "metadata": {}
        }
      ]
    },
    {
      "cell_type": "code",
      "source": [
        "def get_model(classes, filters, kernels=None, paddings='same', dropout=0.25, input_shape=x_train.shape[1:]):\n",
        "    if kernels is None:\n",
        "        kernels = [(3,3) for _ in filters]\n",
        "    model = keras.Sequential()\n",
        "    model.add(keras.layers.InputLayer(input_shape=(*input_shape, 1)))\n",
        "    for filter, kernel in zip(filters, kernels):\n",
        "        model.add(keras.layers.SeparableConv2D(filter, kernel, (1,1), paddings, kernel_initializer='he_uniform'))\n",
        "        model.add(keras.layers.ReLU())\n",
        "        model.add(keras.layers.MaxPooling2D((2, 2)))\n",
        "    model.add(keras.layers.Flatten())\n",
        "\n",
        "    model.add(keras.layers.Dense(64, kernel_initializer='he_uniform'))\n",
        "    model.add(keras.layers.ReLU())\n",
        "    model.add(keras.layers.Dropout(dropout))\n",
        "\n",
        "    model.add(keras.layers.Dense(classes, kernel_initializer='he_uniform'))\n",
        "    return model"
      ],
      "metadata": {
        "id": "C1Os2Zopxnq4"
      },
      "execution_count": 41,
      "outputs": []
    },
    {
      "cell_type": "code",
      "source": [
        "model = get_model(10, [64, 128])\n",
        "model.summary()"
      ],
      "metadata": {
        "colab": {
          "base_uri": "https://localhost:8080/"
        },
        "id": "FMw0T20q2Gu7",
        "outputId": "c44e0ed6-06ef-4ba1-d63c-a01b76cc5512"
      },
      "execution_count": 42,
      "outputs": [
        {
          "output_type": "stream",
          "name": "stdout",
          "text": [
            "Model: \"sequential_9\"\n",
            "_________________________________________________________________\n",
            " Layer (type)                Output Shape              Param #   \n",
            "=================================================================\n",
            " separable_conv2d_19 (Separ  (None, 28, 28, 64)        137       \n",
            " ableConv2D)                                                     \n",
            "                                                                 \n",
            " re_lu_29 (ReLU)             (None, 28, 28, 64)        0         \n",
            "                                                                 \n",
            " max_pooling2d_19 (MaxPooli  (None, 14, 14, 64)        0         \n",
            " ng2D)                                                           \n",
            "                                                                 \n",
            " separable_conv2d_20 (Separ  (None, 14, 14, 128)       8896      \n",
            " ableConv2D)                                                     \n",
            "                                                                 \n",
            " re_lu_30 (ReLU)             (None, 14, 14, 128)       0         \n",
            "                                                                 \n",
            " max_pooling2d_20 (MaxPooli  (None, 7, 7, 128)         0         \n",
            " ng2D)                                                           \n",
            "                                                                 \n",
            " flatten_9 (Flatten)         (None, 6272)              0         \n",
            "                                                                 \n",
            " dense_19 (Dense)            (None, 64)                401472    \n",
            "                                                                 \n",
            " re_lu_31 (ReLU)             (None, 64)                0         \n",
            "                                                                 \n",
            " dropout_6 (Dropout)         (None, 64)                0         \n",
            "                                                                 \n",
            " dense_20 (Dense)            (None, 10)                650       \n",
            "                                                                 \n",
            "=================================================================\n",
            "Total params: 411155 (1.57 MB)\n",
            "Trainable params: 411155 (1.57 MB)\n",
            "Non-trainable params: 0 (0.00 Byte)\n",
            "_________________________________________________________________\n"
          ]
        }
      ]
    },
    {
      "cell_type": "code",
      "source": [
        "model.compile(\n",
        "    optimizer=keras.optimizers.RMSprop(\n",
        "        keras.optimizers.schedules.PiecewiseConstantDecay([3000, 6000], [1e-4, 1e-5, 1e-6]),\n",
        "        momentum=0.9\n",
        "        ),\n",
        "    loss=keras.losses.SparseCategoricalCrossentropy(from_logits=True),\n",
        "    metrics='sparse_categorical_accuracy'\n",
        "    )"
      ],
      "metadata": {
        "id": "mCIFC0_I2mv7"
      },
      "execution_count": 43,
      "outputs": []
    },
    {
      "cell_type": "code",
      "source": [
        "model.fit(x_train, y_train, batch_size=64, epochs=6, validation_split=0.2)"
      ],
      "metadata": {
        "colab": {
          "base_uri": "https://localhost:8080/"
        },
        "id": "GLxXwErG3v6S",
        "outputId": "ec842948-9a4e-499d-c7f8-0443ec673c56"
      },
      "execution_count": 44,
      "outputs": [
        {
          "output_type": "stream",
          "name": "stdout",
          "text": [
            "Epoch 1/6\n",
            "750/750 [==============================] - 68s 89ms/step - loss: 0.3685 - sparse_categorical_accuracy: 0.8912 - val_loss: 0.0829 - val_sparse_categorical_accuracy: 0.9746\n",
            "Epoch 2/6\n",
            "750/750 [==============================] - 65s 87ms/step - loss: 0.1355 - sparse_categorical_accuracy: 0.9601 - val_loss: 0.0664 - val_sparse_categorical_accuracy: 0.9807\n",
            "Epoch 3/6\n",
            "750/750 [==============================] - 64s 86ms/step - loss: 0.1030 - sparse_categorical_accuracy: 0.9687 - val_loss: 0.0771 - val_sparse_categorical_accuracy: 0.9797\n",
            "Epoch 4/6\n",
            "750/750 [==============================] - 69s 92ms/step - loss: 0.0910 - sparse_categorical_accuracy: 0.9729 - val_loss: 0.0657 - val_sparse_categorical_accuracy: 0.9822\n",
            "Epoch 5/6\n",
            "750/750 [==============================] - 67s 89ms/step - loss: 0.0578 - sparse_categorical_accuracy: 0.9819 - val_loss: 0.0524 - val_sparse_categorical_accuracy: 0.9862\n",
            "Epoch 6/6\n",
            "750/750 [==============================] - 67s 89ms/step - loss: 0.0497 - sparse_categorical_accuracy: 0.9845 - val_loss: 0.0508 - val_sparse_categorical_accuracy: 0.9865\n"
          ]
        },
        {
          "output_type": "execute_result",
          "data": {
            "text/plain": [
              "<keras.src.callbacks.History at 0x7dedc7b4b3d0>"
            ]
          },
          "metadata": {},
          "execution_count": 44
        }
      ]
    },
    {
      "cell_type": "code",
      "source": [
        "model.evaluate(x_test, y_test)"
      ],
      "metadata": {
        "colab": {
          "base_uri": "https://localhost:8080/"
        },
        "id": "UlrkidXr7D1U",
        "outputId": "cd2c39eb-757f-432f-ca89-5c09ac981573"
      },
      "execution_count": 45,
      "outputs": [
        {
          "output_type": "stream",
          "name": "stdout",
          "text": [
            "313/313 [==============================] - 5s 17ms/step - loss: 0.0449 - sparse_categorical_accuracy: 0.9856\n"
          ]
        },
        {
          "output_type": "execute_result",
          "data": {
            "text/plain": [
              "[0.04489101096987724, 0.9855999946594238]"
            ]
          },
          "metadata": {},
          "execution_count": 45
        }
      ]
    },
    {
      "cell_type": "code",
      "source": [
        "model.save('base_model.keras')"
      ],
      "metadata": {
        "id": "1pd8p_o2Ah3t"
      },
      "execution_count": 64,
      "outputs": []
    },
    {
      "cell_type": "code",
      "source": [
        "reloaded = keras.models.load_model('base_model.keras')"
      ],
      "metadata": {
        "id": "BGnjrDfZQhCn"
      },
      "execution_count": 65,
      "outputs": []
    },
    {
      "cell_type": "code",
      "source": [
        "reloaded.evaluate(x_test, y_test)"
      ],
      "metadata": {
        "colab": {
          "base_uri": "https://localhost:8080/"
        },
        "id": "i2roGSgCQqfK",
        "outputId": "58107be2-a055-43d2-ef65-cb57e652956e"
      },
      "execution_count": 66,
      "outputs": [
        {
          "output_type": "stream",
          "name": "stdout",
          "text": [
            "313/313 [==============================] - 5s 16ms/step - loss: 0.0449 - sparse_categorical_accuracy: 0.9856\n"
          ]
        },
        {
          "output_type": "execute_result",
          "data": {
            "text/plain": [
              "[0.04489101096987724, 0.9855999946594238]"
            ]
          },
          "metadata": {},
          "execution_count": 66
        }
      ]
    },
    {
      "cell_type": "code",
      "source": [],
      "metadata": {
        "id": "KyD4zqc7Q7wB"
      },
      "execution_count": null,
      "outputs": []
    }
  ]
}