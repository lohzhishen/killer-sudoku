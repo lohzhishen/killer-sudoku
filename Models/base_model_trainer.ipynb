{
  "cells": [
    {
      "cell_type": "code",
      "execution_count": null,
      "metadata": {
        "id": "nnScCwXguLLp"
      },
      "outputs": [],
      "source": [
        "# import deep learning libraries\n",
        "from tensorflow import keras\n",
        "from tensorflow.keras.datasets import mnist\n",
        "\n",
        "# import preprocessing\n",
        "from sklearn.preprocessing import LabelBinarizer\n",
        "\n",
        "# import metrics\n",
        "from sklearn.metrics import classification_report\n",
        "\n",
        "# import image display library\n",
        "import matplotlib.pyplot as plt"
      ]
    },
    {
      "cell_type": "code",
      "execution_count": null,
      "metadata": {
        "id": "0aIJN4RCubmD"
      },
      "outputs": [],
      "source": [
        "# load the dataset\n",
        "(x_train, y_train), (x_test, y_test) = mnist.load_data()"
      ]
    },
    {
      "cell_type": "code",
      "execution_count": null,
      "metadata": {
        "colab": {
          "base_uri": "https://localhost:8080/",
          "height": 202
        },
        "id": "nRj4ZxJmulCW",
        "outputId": "37d62b61-5d04-4f4d-f752-fe7a39af0d33"
      },
      "outputs": [],
      "source": [
        "# view the inputs\n",
        "plt.figure()\n",
        "for i in range(3):\n",
        "    plt.subplot(1, 3, i + 1)\n",
        "    plt.xticks([])\n",
        "    plt.yticks([])\n",
        "    plt.xlabel(str(y_train[i]))\n",
        "    plt.imshow(x_train[i], cmap='gray', vmin=0, vmax=255)\n",
        "plt.show()"
      ]
    },
    {
      "cell_type": "code",
      "execution_count": null,
      "metadata": {
        "colab": {
          "base_uri": "https://localhost:8080/",
          "height": 202
        },
        "id": "Uaqdpev_xGWy",
        "outputId": "d869512d-c8f6-41b2-9c46-ece1b9382728"
      },
      "outputs": [],
      "source": [
        "def transform(img):\n",
        "    \"\"\"Convert image to float32 data type and make range [0, 1].\"\"\"\n",
        "    return img.astype('float32') / 255\n",
        "\n",
        "# transform the inputs\n",
        "transformed_x_train = transform(x_train)\n",
        "transformed_x_test = transform(x_test)\n",
        "\n",
        "# view the inputs\n",
        "plt.figure()\n",
        "for i in range(3):\n",
        "    plt.subplot(1, 3, i + 1)\n",
        "    plt.xticks([])\n",
        "    plt.yticks([])\n",
        "    plt.xlabel(str(y_train[i]))\n",
        "    plt.imshow(transformed_x_train[i], cmap='gray', vmin=0, vmax=1)\n",
        "plt.show()"
      ]
    },
    {
      "cell_type": "code",
      "execution_count": null,
      "metadata": {
        "id": "05wHuviAQaDe"
      },
      "outputs": [],
      "source": [
        "# convert labels to one hot encoding\n",
        "encoder = LabelBinarizer()\n",
        "transformed_y_train = encoder.fit_transform(y_train)\n",
        "transformed_y_test = encoder.transform(y_test)"
      ]
    },
    {
      "cell_type": "code",
      "execution_count": null,
      "metadata": {
        "id": "C1Os2Zopxnq4"
      },
      "outputs": [],
      "source": [
        "def get_model():\n",
        "    model = keras.Sequential()\n",
        "\n",
        "    # input layer\n",
        "    model.add(keras.layers.InputLayer(input_shape=(28, 28, 1)))\n",
        "\n",
        "    # first convolution layer\n",
        "    model.add(keras.layers.Conv2D(32, (5, 5), padding='same', kernel_initializer='he_uniform'))\n",
        "    model.add(keras.layers.ReLU())\n",
        "    model.add(keras.layers.MaxPooling2D(pool_size=(2, 2)))\n",
        "    \n",
        "    # second convolution layer\n",
        "    model.add(keras.layers.Conv2D(32, (3, 3), padding='same', kernel_initializer='he_uniform'))\n",
        "    model.add(keras.layers.ReLU())\n",
        "    model.add(keras.layers.MaxPooling2D(pool_size=(2, 2)))\n",
        "\n",
        "    # transition to fully connected layers\n",
        "    model.add(keras.layers.Flatten())\n",
        "\n",
        "    # first dense layer \n",
        "    model.add(keras.layers.Dense(64, kernel_initializer='he_uniform'))\n",
        "    model.add(keras.layers.ReLU())\n",
        "    model.add(keras.layers.Dropout(0.5))\n",
        "\n",
        "    # second dense layer\n",
        "    model.add(keras.layers.Dense(64, kernel_initializer='he_uniform'))\n",
        "    model.add(keras.layers.ReLU())\n",
        "    model.add(keras.layers.Dropout(0.5))\n",
        "\n",
        "    # output layer\n",
        "    model.add(keras.layers.Dense(10, kernel_initializer='he_uniform'))\n",
        "    model.add(keras.layers.Softmax())\n",
        "    return model"
      ]
    },
    {
      "cell_type": "code",
      "execution_count": null,
      "metadata": {
        "colab": {
          "base_uri": "https://localhost:8080/"
        },
        "id": "FMw0T20q2Gu7",
        "outputId": "85d3999d-2754-4c62-eb99-7669f6014d72"
      },
      "outputs": [],
      "source": [
        "# create a model\n",
        "model = get_model()\n",
        "print(model.summary())\n",
        "model.compile(\n",
        "    optimizer=keras.optimizers.Adam(learning_rate=1e-3),\n",
        "    loss=keras.losses.CategoricalCrossentropy(from_logits=False),\n",
        "    metrics='accuracy'\n",
        ")"
      ]
    },
    {
      "cell_type": "code",
      "execution_count": null,
      "metadata": {
        "colab": {
          "base_uri": "https://localhost:8080/"
        },
        "id": "GLxXwErG3v6S",
        "outputId": "daeb532b-8c3b-488e-8f38-65fb86923532"
      },
      "outputs": [],
      "source": [
        "# train the model\n",
        "model.fit(transformed_x_train, transformed_y_train, batch_size=128, epochs=10, validation_data=(transformed_x_test, transformed_y_test))"
      ]
    },
    {
      "cell_type": "code",
      "execution_count": null,
      "metadata": {
        "colab": {
          "base_uri": "https://localhost:8080/"
        },
        "id": "UlrkidXr7D1U",
        "outputId": "03ebae5f-edd4-4b1a-8416-3a70580a09da"
      },
      "outputs": [],
      "source": [
        "# evaluate the model\n",
        "print(\n",
        "    classification_report(\n",
        "        model.predict(transformed_x_test).argmax(axis=1), \n",
        "        transformed_y_test.argmax(axis=1), \n",
        "        target_names=[str(x) for x in encoder.classes_]\n",
        "    )\n",
        ")"
      ]
    },
    {
      "cell_type": "code",
      "execution_count": null,
      "metadata": {
        "id": "1pd8p_o2Ah3t"
      },
      "outputs": [],
      "source": [
        "# save the model\n",
        "model.save('base_model.keras')"
      ]
    },
    {
      "cell_type": "code",
      "execution_count": null,
      "metadata": {
        "id": "BGnjrDfZQhCn"
      },
      "outputs": [],
      "source": [
        "# load the model\n",
        "reloaded = keras.models.load_model('base_model.keras')"
      ]
    },
    {
      "cell_type": "code",
      "execution_count": null,
      "metadata": {
        "colab": {
          "base_uri": "https://localhost:8080/"
        },
        "id": "i2roGSgCQqfK",
        "outputId": "273e91c8-7191-4f64-ac9e-fed227b38419"
      },
      "outputs": [],
      "source": [
        "# evaluate the model\n",
        "print(\n",
        "    classification_report(\n",
        "        reloaded.predict(transformed_x_test).argmax(axis=1), \n",
        "        transformed_y_test.argmax(axis=1), \n",
        "        target_names=[str(x) for x in encoder.classes_]\n",
        "    )\n",
        ")"
      ]
    },
    {
      "cell_type": "code",
      "execution_count": null,
      "metadata": {
        "id": "KyD4zqc7Q7wB"
      },
      "outputs": [],
      "source": []
    }
  ],
  "metadata": {
    "colab": {
      "provenance": []
    },
    "kernelspec": {
      "display_name": "Python 3",
      "name": "python3"
    },
    "language_info": {
      "codemirror_mode": {
        "name": "ipython",
        "version": 3
      },
      "file_extension": ".py",
      "mimetype": "text/x-python",
      "name": "python",
      "nbconvert_exporter": "python",
      "pygments_lexer": "ipython3",
      "version": "3.11.7"
    }
  },
  "nbformat": 4,
  "nbformat_minor": 0
}
