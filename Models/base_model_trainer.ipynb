{
  "cells": [
    {
      "cell_type": "code",
      "execution_count": 37,
      "metadata": {
        "id": "nnScCwXguLLp"
      },
      "outputs": [],
      "source": [
        "# import deep learning libraries\n",
        "from tensorflow import keras\n",
        "from tensorflow.keras.datasets import mnist\n",
        "\n",
        "# import preprocessing\n",
        "from sklearn.preprocessing import LabelBinarizer\n",
        "\n",
        "# import metrics\n",
        "from sklearn.metrics import classification_report\n",
        "\n",
        "# import image display library\n",
        "import matplotlib.pyplot as plt"
      ]
    },
    {
      "cell_type": "code",
      "execution_count": 27,
      "metadata": {
        "id": "0aIJN4RCubmD"
      },
      "outputs": [],
      "source": [
        "# load the dataset\n",
        "(x_train, y_train), (x_test, y_test) = mnist.load_data()"
      ]
    },
    {
      "cell_type": "code",
      "execution_count": 28,
      "metadata": {
        "colab": {
          "base_uri": "https://localhost:8080/",
          "height": 202
        },
        "id": "nRj4ZxJmulCW",
        "outputId": "37d62b61-5d04-4f4d-f752-fe7a39af0d33"
      },
      "outputs": [
        {
          "data": {
            "image/png": "[encoded data removed]",
            "text/plain": [
              "<Figure size 640x480 with 3 Axes>"
            ]
          },
          "metadata": {},
          "output_type": "display_data"
        }
      ],
      "source": [
        "# view the inputs\n",
        "plt.figure()\n",
        "for i in range(3):\n",
        "    plt.subplot(1, 3, i + 1)\n",
        "    plt.xticks([])\n",
        "    plt.yticks([])\n",
        "    plt.xlabel(str(y_train[i]))\n",
        "    plt.imshow(x_train[i], cmap='gray', vmin=0, vmax=255)\n",
        "plt.show()"
      ]
    },
    {
      "cell_type": "code",
      "execution_count": 29,
      "metadata": {
        "colab": {
          "base_uri": "https://localhost:8080/",
          "height": 202
        },
        "id": "Uaqdpev_xGWy",
        "outputId": "d869512d-c8f6-41b2-9c46-ece1b9382728"
      },
      "outputs": [
        {
          "data": {
            "image/png": "[encoded data removed]",
            "text/plain": [
              "<Figure size 640x480 with 3 Axes>"
            ]
          },
          "metadata": {},
          "output_type": "display_data"
        }
      ],
      "source": [
        "def transform(img: np.ndarray) -> np.ndarray:\n",
        "    \"\"\"Convert image to float32 data type and make range [0, 1]. Additionally, inverts the colors\"\"\"\n",
        "    return (255 - img).astype('float32') / 255\n",
        "\n",
        "# transform the inputs\n",
        "transformed_x_train = transform(x_train)\n",
        "transformed_x_test = transform(x_test)\n",
        "\n",
        "# view the inputs\n",
        "plt.figure()\n",
        "for i in range(3):\n",
        "    plt.subplot(1, 3, i + 1)\n",
        "    plt.xticks([])\n",
        "    plt.yticks([])\n",
        "    plt.xlabel(str(y_train[i]))\n",
        "    plt.imshow(transformed_x_train[i], cmap='gray', vmin=0, vmax=1)\n",
        "plt.show()"
      ]
    },
    {
      "cell_type": "code",
      "execution_count": 30,
      "metadata": {
        "id": "05wHuviAQaDe"
      },
      "outputs": [],
      "source": [
        "# convert labels to one hot encoding\n",
        "encoder = LabelBinarizer()\n",
        "transformed_y_train = encoder.fit_transform(y_train)\n",
        "transformed_y_test = encoder.transform(y_test)"
      ]
    },
    {
      "cell_type": "code",
      "execution_count": 49,
      "metadata": {
        "id": "C1Os2Zopxnq4"
      },
      "outputs": [],
      "source": [
        "def get_model():\n",
        "    model = keras.Sequential()\n",
        "\n",
        "    # input layer\n",
        "    model.add(keras.layers.InputLayer(input_shape=(28, 28, 1)))\n",
        "\n",
        "    # first convolution layer\n",
        "    model.add(keras.layers.Conv2D(32, (5, 5), padding='same', kernel_initializer='he_uniform'))\n",
        "    model.add(keras.layers.ReLU())\n",
        "    model.add(keras.layers.MaxPooling2D(pool_size=(2, 2)))\n",
        "    \n",
        "    # second convolution layer\n",
        "    model.add(keras.layers.Conv2D(32, (3, 3), padding='same', kernel_initializer='he_uniform'))\n",
        "    model.add(keras.layers.ReLU())\n",
        "    model.add(keras.layers.MaxPooling2D(pool_size=(2, 2)))\n",
        "\n",
        "    # transition to fully connected layers\n",
        "    model.add(keras.layers.Flatten())\n",
        "\n",
        "    # first dense layer \n",
        "    model.add(keras.layers.Dense(64, kernel_initializer='he_uniform'))\n",
        "    model.add(keras.layers.ReLU())\n",
        "    model.add(keras.layers.Dropout(0.5))\n",
        "\n",
        "    # second dense layer\n",
        "    model.add(keras.layers.Dense(64, kernel_initializer='he_uniform'))\n",
        "    model.add(keras.layers.ReLU())\n",
        "    model.add(keras.layers.Dropout(0.5))\n",
        "\n",
        "    # output layer\n",
        "    model.add(keras.layers.Dense(10, kernel_initializer='he_uniform'))\n",
        "    model.add(keras.layers.Softmax())\n",
        "    return model"
      ]
    },
    {
      "cell_type": "code",
      "execution_count": 50,
      "metadata": {
        "colab": {
          "base_uri": "https://localhost:8080/"
        },
        "id": "FMw0T20q2Gu7",
        "outputId": "85d3999d-2754-4c62-eb99-7669f6014d72"
      },
      "outputs": [
        {
          "name": "stdout",
          "output_type": "stream",
          "text": [
            "Model: \"sequential_7\"\n",
            "_________________________________________________________________\n",
            " Layer (type)                Output Shape              Param #   \n",
            "=================================================================\n",
            " conv2d_8 (Conv2D)           (None, 28, 28, 32)        832       \n",
            "                                                                 \n",
            " re_lu_28 (ReLU)             (None, 28, 28, 32)        0         \n",
            "                                                                 \n",
            " max_pooling2d_14 (MaxPooli  (None, 14, 14, 32)        0         \n",
            " ng2D)                                                           \n",
            "                                                                 \n",
            " conv2d_9 (Conv2D)           (None, 14, 14, 32)        9248      \n",
            "                                                                 \n",
            " re_lu_29 (ReLU)             (None, 14, 14, 32)        0         \n",
            "                                                                 \n",
            " max_pooling2d_15 (MaxPooli  (None, 7, 7, 32)          0         \n",
            " ng2D)                                                           \n",
            "                                                                 \n",
            " flatten_7 (Flatten)         (None, 1568)              0         \n",
            "                                                                 \n",
            " dense_21 (Dense)            (None, 64)                100416    \n",
            "                                                                 \n",
            " re_lu_30 (ReLU)             (None, 64)                0         \n",
            "                                                                 \n",
            " dropout_14 (Dropout)        (None, 64)                0         \n",
            "                                                                 \n",
            " dense_22 (Dense)            (None, 64)                4160      \n",
            "                                                                 \n",
            " re_lu_31 (ReLU)             (None, 64)                0         \n",
            "                                                                 \n",
            " dropout_15 (Dropout)        (None, 64)                0         \n",
            "                                                                 \n",
            " dense_23 (Dense)            (None, 10)                650       \n",
            "                                                                 \n",
            " softmax_2 (Softmax)         (None, 10)                0         \n",
            "                                                                 \n",
            "=================================================================\n",
            "Total params: 115306 (450.41 KB)\n",
            "Trainable params: 115306 (450.41 KB)\n",
            "Non-trainable params: 0 (0.00 Byte)\n",
            "_________________________________________________________________\n"
          ]
        }
      ],
      "source": [
        "# create a model\n",
        "model = get_model()\n",
        "print(model.summary())\n",
        "model.compile(\n",
        "    optimizer=keras.optimizers.Adam(learning_rate=1e-3),\n",
        "    loss=keras.losses.CategoricalCrossentropy(from_logits=False),\n",
        "    metrics='accuracy'\n",
        ")"
      ]
    },
    {
      "cell_type": "code",
      "execution_count": 52,
      "metadata": {
        "colab": {
          "base_uri": "https://localhost:8080/"
        },
        "id": "GLxXwErG3v6S",
        "outputId": "daeb532b-8c3b-488e-8f38-65fb86923532"
      },
      "outputs": [
        {
          "name": "stdout",
          "output_type": "stream",
          "text": [
            "Epoch 1/10\n",
            "469/469 [==============================] - 67s 140ms/step - loss: 1.7021 - accuracy: 0.3431 - val_loss: 0.4682 - val_accuracy: 0.9306\n",
            "Epoch 2/10\n",
            "469/469 [==============================] - 61s 130ms/step - loss: 0.8846 - accuracy: 0.6805 - val_loss: 0.1755 - val_accuracy: 0.9708\n",
            "Epoch 3/10\n",
            "469/469 [==============================] - 58s 123ms/step - loss: 0.5528 - accuracy: 0.8081 - val_loss: 0.1013 - val_accuracy: 0.9783\n",
            "Epoch 4/10\n",
            "469/469 [==============================] - 58s 124ms/step - loss: 0.4440 - accuracy: 0.8467 - val_loss: 0.0838 - val_accuracy: 0.9817\n",
            "Epoch 5/10\n",
            "469/469 [==============================] - 59s 126ms/step - loss: 0.3584 - accuracy: 0.8850 - val_loss: 0.0607 - val_accuracy: 0.9850\n",
            "Epoch 6/10\n",
            "469/469 [==============================] - 57s 122ms/step - loss: 0.3218 - accuracy: 0.8967 - val_loss: 0.0640 - val_accuracy: 0.9847\n",
            "Epoch 7/10\n",
            "469/469 [==============================] - 58s 124ms/step - loss: 0.2961 - accuracy: 0.9053 - val_loss: 0.0538 - val_accuracy: 0.9860\n",
            "Epoch 8/10\n",
            "469/469 [==============================] - 60s 127ms/step - loss: 0.2705 - accuracy: 0.9143 - val_loss: 0.0543 - val_accuracy: 0.9871\n",
            "Epoch 9/10\n",
            "469/469 [==============================] - 57s 121ms/step - loss: 0.2553 - accuracy: 0.9196 - val_loss: 0.0548 - val_accuracy: 0.9881\n",
            "Epoch 10/10\n",
            "469/469 [==============================] - 58s 123ms/step - loss: 0.2442 - accuracy: 0.9237 - val_loss: 0.0516 - val_accuracy: 0.9871\n"
          ]
        },
        {
          "data": {
            "text/plain": [
              "<keras.src.callbacks.History at 0x782b0d067220>"
            ]
          },
          "execution_count": 52,
          "metadata": {},
          "output_type": "execute_result"
        }
      ],
      "source": [
        "# train the model\n",
        "model.fit(transformed_x_train, transformed_y_train, batch_size=128, epochs=10, validation_data=(transformed_x_test, transformed_y_test))"
      ]
    },
    {
      "cell_type": "code",
      "execution_count": 53,
      "metadata": {
        "colab": {
          "base_uri": "https://localhost:8080/"
        },
        "id": "UlrkidXr7D1U",
        "outputId": "03ebae5f-edd4-4b1a-8416-3a70580a09da"
      },
      "outputs": [
        {
          "name": "stdout",
          "output_type": "stream",
          "text": [
            "313/313 [==============================] - 3s 10ms/step\n",
            "              precision    recall  f1-score   support\n",
            "\n",
            "           0       1.00      0.99      1.00       985\n",
            "           1       0.99      0.99      0.99      1135\n",
            "           2       0.99      0.98      0.99      1046\n",
            "           3       0.99      1.00      0.99       999\n",
            "           4       0.98      0.99      0.98       978\n",
            "           5       0.99      0.98      0.99       907\n",
            "           6       0.99      0.99      0.99       952\n",
            "           7       0.98      0.99      0.99      1024\n",
            "           8       0.99      0.98      0.99       983\n",
            "           9       0.96      0.98      0.97       991\n",
            "\n",
            "    accuracy                           0.99     10000\n",
            "   macro avg       0.99      0.99      0.99     10000\n",
            "weighted avg       0.99      0.99      0.99     10000\n",
            "\n"
          ]
        }
      ],
      "source": [
        "# evaluate the model\n",
        "print(\n",
        "    classification_report(\n",
        "        model.predict(transformed_x_test).argmax(axis=1), \n",
        "        transformed_y_test.argmax(axis=1), \n",
        "        target_names=[str(x) for x in encoder.classes_]\n",
        "    )\n",
        ")"
      ]
    },
    {
      "cell_type": "code",
      "execution_count": 54,
      "metadata": {
        "id": "1pd8p_o2Ah3t"
      },
      "outputs": [],
      "source": [
        "# save the model\n",
        "model.save('base_model.keras')"
      ]
    },
    {
      "cell_type": "code",
      "execution_count": 56,
      "metadata": {
        "id": "BGnjrDfZQhCn"
      },
      "outputs": [],
      "source": [
        "# load the model\n",
        "reloaded = keras.models.load_model('base_model.keras')"
      ]
    },
    {
      "cell_type": "code",
      "execution_count": 60,
      "metadata": {
        "colab": {
          "base_uri": "https://localhost:8080/"
        },
        "id": "i2roGSgCQqfK",
        "outputId": "273e91c8-7191-4f64-ac9e-fed227b38419"
      },
      "outputs": [
        {
          "name": "stdout",
          "output_type": "stream",
          "text": [
            "313/313 [==============================] - 5s 14ms/step\n",
            "              precision    recall  f1-score   support\n",
            "\n",
            "           0       1.00      0.99      1.00       985\n",
            "           1       0.99      0.99      0.99      1135\n",
            "           2       0.99      0.98      0.99      1046\n",
            "           3       0.99      1.00      0.99       999\n",
            "           4       0.98      0.99      0.98       978\n",
            "           5       0.99      0.98      0.99       907\n",
            "           6       0.99      0.99      0.99       952\n",
            "           7       0.98      0.99      0.99      1024\n",
            "           8       0.99      0.98      0.99       983\n",
            "           9       0.96      0.98      0.97       991\n",
            "\n",
            "    accuracy                           0.99     10000\n",
            "   macro avg       0.99      0.99      0.99     10000\n",
            "weighted avg       0.99      0.99      0.99     10000\n",
            "\n"
          ]
        }
      ],
      "source": [
        "# evaluate the model\n",
        "print(\n",
        "    classification_report(\n",
        "        reloaded.predict(transformed_x_test).argmax(axis=1), \n",
        "        transformed_y_test.argmax(axis=1), \n",
        "        target_names=[str(x) for x in encoder.classes_]\n",
        "    )\n",
        ")"
      ]
    },
    {
      "cell_type": "code",
      "execution_count": null,
      "metadata": {
        "id": "KyD4zqc7Q7wB"
      },
      "outputs": [],
      "source": []
    }
  ],
  "metadata": {
    "colab": {
      "provenance": []
    },
    "kernelspec": {
      "display_name": "Python 3",
      "name": "python3"
    },
    "language_info": {
      "name": "python"
    }
  },
  "nbformat": 4,
  "nbformat_minor": 0
}
