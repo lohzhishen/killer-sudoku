{
  "cells": [
    {
      "cell_type": "code",
      "execution_count": 3,
      "metadata": {
        "id": "ArR3jNDM6lVi"
      },
      "outputs": [],
      "source": [
        "# import libraries\n",
        "import matplotlib.pyplot as plt\n",
        "from tensorflow import keras\n",
        "import sklearn.metrics\n",
        "import tensorflow as tf\n",
        "import numpy as np\n",
        "import sklearn\n",
        "import pathlib\n",
        "import shutil\n",
        "import os\n",
        "\n",
        "# create directories\n",
        "BASE_MODEL = pathlib.Path('base_model.keras')\n",
        "MODEL = pathlib.Path('digit_recognizer.keras')\n",
        "LABELLED = pathlib.Path('Dataset', 'Digit Recognizer', 'Labelled')"
      ]
    },
    {
      "cell_type": "code",
      "execution_count": 4,
      "metadata": {
        "id": "zra44Nqf0V-M"
      },
      "outputs": [
        {
          "name": "stdout",
          "output_type": "stream",
          "text": [
            "WARNING:tensorflow:From c:\\Users\\lohzh\\Desktop\\Killer sudoku\\killer-sudoku\\.venv\\Lib\\site-packages\\keras\\src\\backend.py:1398: The name tf.executing_eagerly_outside_functions is deprecated. Please use tf.compat.v1.executing_eagerly_outside_functions instead.\n",
            "\n",
            "WARNING:tensorflow:From c:\\Users\\lohzh\\Desktop\\Killer sudoku\\killer-sudoku\\.venv\\Lib\\site-packages\\keras\\src\\layers\\pooling\\max_pooling2d.py:161: The name tf.nn.max_pool is deprecated. Please use tf.nn.max_pool2d instead.\n",
            "\n"
          ]
        }
      ],
      "source": [
        "# load the base model\n",
        "model = keras.models.load_model(BASE_MODEL)\n",
        "model.compile(\n",
        "    optimizer=keras.optimizers.Adam(learning_rate=1e-3),\n",
        "    loss=keras.losses.CategoricalCrossentropy(from_logits=False),\n",
        "    metrics='accuracy'\n",
        ")"
      ]
    },
    {
      "cell_type": "code",
      "execution_count": 6,
      "metadata": {
        "id": "9LQobe4SGPeh"
      },
      "outputs": [
        {
          "name": "stdout",
          "output_type": "stream",
          "text": [
            "313/313 [==============================] - 1s 3ms/step - loss: 0.0383 - accuracy: 0.9899\n"
          ]
        },
        {
          "data": {
            "text/plain": [
              "[0.03828319534659386, 0.9898999929428101]"
            ]
          },
          "execution_count": 6,
          "metadata": {},
          "output_type": "execute_result"
        }
      ],
      "source": [
        "# verify that base model is loaded properly\n",
        "def transform(img):\n",
        "    return img.astype('float32') / 255\n",
        "\n",
        "(x_train, y_train), (x_test, y_test) = keras.datasets.mnist.load_data()\n",
        "transformed_x_train = transform(x_train)\n",
        "transformed_x_test = transform(x_test)\n",
        "encoder = sklearn.preprocessing.LabelBinarizer()\n",
        "transformed_y_train = encoder.fit_transform(y_train)\n",
        "transformed_y_test = encoder.transform(y_test)\n",
        "model.evaluate(transformed_x_test, transformed_y_test)"
      ]
    },
    {
      "cell_type": "code",
      "execution_count": 7,
      "metadata": {
        "id": "mXhnd22a7Pve"
      },
      "outputs": [],
      "source": [
        "# function to scale and one hot encode response\n",
        "def transform(x, y):\n",
        "    x = tf.cast(x, tf.float32) / 255\n",
        "    x =  tf.image.resize(x, [28, 28])\n",
        "    y = tf.one_hot(y, 10, dtype=tf.uint8)\n",
        "    return x, y"
      ]
    },
    {
      "cell_type": "code",
      "execution_count": 8,
      "metadata": {
        "colab": {
          "base_uri": "https://localhost:8080/"
        },
        "id": "T5zWmMQD-HrM",
        "outputId": "d79e7565-f38f-4206-e04a-a603319f5c1d"
      },
      "outputs": [
        {
          "name": "stdout",
          "output_type": "stream",
          "text": [
            "Found 422 files belonging to 10 classes.\n",
            "Using 380 files for training.\n",
            "Found 422 files belonging to 10 classes.\n",
            "Using 42 files for validation.\n"
          ]
        }
      ],
      "source": [
        "# load the datasets\n",
        "train_dataset = keras.utils.image_dataset_from_directory(\n",
        "    LABELLED,\n",
        "    label_mode='int',\n",
        "    color_mode='grayscale',\n",
        "    batch_size=32,\n",
        "    image_size=(28, 28),\n",
        "    shuffle=True,\n",
        "    seed=1,\n",
        "    validation_split=0.1,\n",
        "    subset='training'\n",
        ")\n",
        "\n",
        "test_dataset = keras.utils.image_dataset_from_directory(\n",
        "    LABELLED,\n",
        "    label_mode='int',\n",
        "    color_mode='grayscale',\n",
        "    batch_size=32,\n",
        "    image_size=(28, 28),\n",
        "    shuffle=True,\n",
        "    seed=1,\n",
        "    validation_split=0.1,\n",
        "    subset='validation'\n",
        ")\n",
        "\n",
        "train_dataset = train_dataset.map(transform)\n",
        "test_dataset = test_dataset.map(transform)"
      ]
    },
    {
      "cell_type": "code",
      "execution_count": 9,
      "metadata": {
        "colab": {
          "base_uri": "https://localhost:8080/"
        },
        "id": "yyu0_BHW6vEn",
        "outputId": "04237e51-85d1-4e61-a657-7d8a6cc04d17"
      },
      "outputs": [
        {
          "name": "stdout",
          "output_type": "stream",
          "text": [
            "Epoch 1/3\n",
            "12/12 [==============================] - 2s 46ms/step - loss: 0.7189 - accuracy: 0.7947 - val_loss: 0.0568 - val_accuracy: 0.9762\n",
            "Epoch 2/3\n",
            "12/12 [==============================] - 0s 12ms/step - loss: 0.2368 - accuracy: 0.9237 - val_loss: 0.0203 - val_accuracy: 1.0000\n",
            "Epoch 3/3\n",
            "12/12 [==============================] - 0s 13ms/step - loss: 0.1742 - accuracy: 0.9316 - val_loss: 0.0166 - val_accuracy: 1.0000\n"
          ]
        },
        {
          "data": {
            "text/plain": [
              "<keras.src.callbacks.History at 0x24700050b10>"
            ]
          },
          "execution_count": 9,
          "metadata": {},
          "output_type": "execute_result"
        }
      ],
      "source": [
        "# train the model\n",
        "model.fit(train_dataset, epochs=3, validation_data=test_dataset)"
      ]
    },
    {
      "cell_type": "code",
      "execution_count": 10,
      "metadata": {
        "colab": {
          "base_uri": "https://localhost:8080/"
        },
        "id": "1giO9Ax0kdUB",
        "outputId": "11e245ec-5315-453d-e866-fc314f95277f"
      },
      "outputs": [
        {
          "name": "stdout",
          "output_type": "stream",
          "text": [
            "2/2 [==============================] - 0s 8ms/step - loss: 0.0166 - accuracy: 1.0000\n"
          ]
        },
        {
          "data": {
            "text/plain": [
              "[0.016608405858278275, 1.0]"
            ]
          },
          "execution_count": 10,
          "metadata": {},
          "output_type": "execute_result"
        }
      ],
      "source": [
        "# evaluate the model\n",
        "model.evaluate(test_dataset)"
      ]
    },
    {
      "cell_type": "code",
      "execution_count": 11,
      "metadata": {
        "id": "XCH7cvjGqPwa"
      },
      "outputs": [],
      "source": [
        "# extract dataset\n",
        "images, labels = zip(*test_dataset)\n",
        "labels = np.concatenate([l.numpy() for l in labels], axis=0)\n",
        "labels = labels.argmax(axis=1)"
      ]
    },
    {
      "cell_type": "code",
      "execution_count": 12,
      "metadata": {
        "colab": {
          "base_uri": "https://localhost:8080/"
        },
        "id": "9LOVseKYrgaJ",
        "outputId": "22731712-307c-4c3c-e95d-30250a88e6de"
      },
      "outputs": [
        {
          "name": "stdout",
          "output_type": "stream",
          "text": [
            "1/1 [==============================] - 0s 118ms/step\n",
            "1/1 [==============================] - 0s 73ms/step\n"
          ]
        }
      ],
      "source": [
        "# make predictions\n",
        "predictions = []\n",
        "for batch in images:\n",
        "    predictions = np.concatenate([predictions, tf.argmax(model.predict(batch), axis=1).numpy()], axis=0)"
      ]
    },
    {
      "cell_type": "code",
      "execution_count": 13,
      "metadata": {
        "colab": {
          "base_uri": "https://localhost:8080/"
        },
        "id": "MkTXMsvR7B74",
        "outputId": "658f6454-a955-4bb5-e113-a5088e6e78ef"
      },
      "outputs": [
        {
          "name": "stdout",
          "output_type": "stream",
          "text": [
            "              precision    recall  f1-score   support\n",
            "\n",
            "           0       1.00      1.00      1.00         2\n",
            "           1       1.00      1.00      1.00         8\n",
            "           2       1.00      1.00      1.00         5\n",
            "           3       1.00      1.00      1.00         4\n",
            "           4       1.00      1.00      1.00         3\n",
            "           5       1.00      1.00      1.00         6\n",
            "           6       1.00      1.00      1.00         4\n",
            "           7       1.00      1.00      1.00         2\n",
            "           8       1.00      1.00      1.00         2\n",
            "           9       1.00      1.00      1.00         6\n",
            "\n",
            "    accuracy                           1.00        42\n",
            "   macro avg       1.00      1.00      1.00        42\n",
            "weighted avg       1.00      1.00      1.00        42\n",
            "\n"
          ]
        }
      ],
      "source": [
        "# evaluate the model\n",
        "print(\n",
        "    sklearn.metrics.classification_report(\n",
        "        labels,\n",
        "        predictions,\n",
        "        target_names=[str(x) for x in range(10)]\n",
        "    )\n",
        ")"
      ]
    },
    {
      "cell_type": "code",
      "execution_count": 14,
      "metadata": {
        "id": "ecerdFDUC1jf"
      },
      "outputs": [],
      "source": [
        "# save the model\n",
        "model.save('digit_recognizer.keras')"
      ]
    },
    {
      "cell_type": "code",
      "execution_count": 193,
      "metadata": {
        "id": "Qaz8Sfz0C49c"
      },
      "outputs": [],
      "source": []
    }
  ],
  "metadata": {
    "colab": {
      "provenance": []
    },
    "kernelspec": {
      "display_name": "Python 3",
      "name": "python3"
    },
    "language_info": {
      "codemirror_mode": {
        "name": "ipython",
        "version": 3
      },
      "file_extension": ".py",
      "mimetype": "text/x-python",
      "name": "python",
      "nbconvert_exporter": "python",
      "pygments_lexer": "ipython3",
      "version": "3.11.7"
    }
  },
  "nbformat": 4,
  "nbformat_minor": 0
}
