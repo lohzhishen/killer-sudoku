{
  "cells": [
    {
      "cell_type": "code",
      "execution_count": 1,
      "metadata": {
        "id": "3l_-8tvxz23_"
      },
      "outputs": [
        {
          "name": "stdout",
          "output_type": "stream",
          "text": [
            "WARNING:tensorflow:From c:\\Users\\lohzh\\Desktop\\Killer sudoku\\killer-sudoku\\.venv\\Lib\\site-packages\\keras\\src\\losses.py:2976: The name tf.losses.sparse_softmax_cross_entropy is deprecated. Please use tf.compat.v1.losses.sparse_softmax_cross_entropy instead.\n",
            "\n"
          ]
        }
      ],
      "source": [
        "import matplotlib.pyplot as plt\n",
        "from tensorflow import keras\n",
        "import tensorflow as tf\n",
        "import numpy as np\n",
        "import pathlib\n",
        "import os\n",
        "\n",
        "MODEL = pathlib.Path('wall_recognizer.keras')\n",
        "LABELLED = pathlib.Path('Dataset', 'Wall Recognizer', 'Labelled')"
      ]
    },
    {
      "cell_type": "code",
      "execution_count": 15,
      "metadata": {
        "id": "2wiR-Oaw0p-o"
      },
      "outputs": [],
      "source": [
        "BUFFER = 128\n",
        "\n",
        "file_paths = tf.data.Dataset.list_files(str(LABELLED/'*.png'), shuffle=False).shuffle(BUFFER, reshuffle_each_iteration=False)"
      ]
    },
    {
      "cell_type": "code",
      "execution_count": 16,
      "metadata": {
        "id": "kotssfuh1XDo"
      },
      "outputs": [],
      "source": [
        "def parse_images(file_path):\n",
        "    # extract label\n",
        "    label = tf.strings.split(file_path, os.path.sep)[-1]\n",
        "    label = tf.strings.split(label, '_')[:-1]\n",
        "    label = tf.strings.to_number(label, tf.int32)\n",
        "\n",
        "    # load image\n",
        "    image = tf.io.read_file(file_path)\n",
        "    image = tf.io.decode_png(image, channels=1)\n",
        "    image = tf.image.resize(image, [28, 28])\n",
        "    image = tf.cast(image, tf.float32) / 255\n",
        "    return image, label\n",
        "\n",
        "dataset = file_paths.map(parse_images)"
      ]
    },
    {
      "cell_type": "code",
      "execution_count": 17,
      "metadata": {
        "id": "L5ENpKce4qX1"
      },
      "outputs": [],
      "source": [
        "train_size = 800\n",
        "\n",
        "train_dataset = dataset.take(train_size)\n",
        "test_dataset = dataset.skip(train_size)"
      ]
    },
    {
      "cell_type": "code",
      "execution_count": 18,
      "metadata": {
        "colab": {
          "base_uri": "https://localhost:8080/"
        },
        "id": "olRCDr1q6BLo",
        "outputId": "d92f2051-0c73-4110-c7c0-fdf49a662132"
      },
      "outputs": [
        {
          "name": "stdout",
          "output_type": "stream",
          "text": [
            "(28, 28, 1)\n"
          ]
        }
      ],
      "source": [
        "image = iter(train_dataset).__next__()\n",
        "print(image[0].shape)"
      ]
    },
    {
      "cell_type": "code",
      "execution_count": 19,
      "metadata": {
        "colab": {
          "base_uri": "https://localhost:8080/",
          "height": 378
        },
        "id": "bQnrU_yf5HlG",
        "outputId": "637f837d-e285-422f-99d1-3c477d05db56"
      },
      "outputs": [
        {
          "data": {
            "image/png": "[encoded data removed]",
            "text/plain": [
              "<Figure size 1500x500 with 3 Axes>"
            ]
          },
          "metadata": {},
          "output_type": "display_data"
        }
      ],
      "source": [
        "plt.figure(figsize=(15, 5))\n",
        "for i, (image, label) in zip(range(3), iter(train_dataset)):\n",
        "    label = label.numpy().astype(np.uint8).tolist()\n",
        "\n",
        "    plt.subplot(1, 3, i + 1)\n",
        "    plt.imshow(image, cmap='gray')\n",
        "    plt.xticks([])\n",
        "    plt.yticks([])\n",
        "    plt.title('_'.join([str(x) for x in label]))\n",
        "plt.show()"
      ]
    },
    {
      "cell_type": "code",
      "execution_count": 20,
      "metadata": {
        "id": "djm8qV5h8iBW"
      },
      "outputs": [],
      "source": [
        "train_dataset = train_dataset.batch(1)\n",
        "test_dataset = test_dataset.batch(1)"
      ]
    },
    {
      "cell_type": "code",
      "execution_count": 21,
      "metadata": {
        "id": "EbPuuM0k0PlU"
      },
      "outputs": [],
      "source": [
        "def get_model():\n",
        "    model = keras.Sequential()\n",
        "\n",
        "    # input layer\n",
        "    model.add(keras.layers.InputLayer(input_shape=(28, 28, 1)))\n",
        "\n",
        "    # first convolution layer\n",
        "    model.add(keras.layers.Conv2D(32, (5, 5), padding='same', kernel_initializer='he_uniform'))\n",
        "    model.add(keras.layers.ReLU())\n",
        "    model.add(keras.layers.MaxPooling2D(pool_size=(2, 2)))\n",
        "\n",
        "    # second convolution layer\n",
        "    model.add(keras.layers.Conv2D(32, (3, 3), padding='same', kernel_initializer='he_uniform'))\n",
        "    model.add(keras.layers.ReLU())\n",
        "    model.add(keras.layers.MaxPooling2D(pool_size=(2, 2)))\n",
        "\n",
        "    # transition to fully connected layers\n",
        "    model.add(keras.layers.Flatten())\n",
        "\n",
        "    # first dense layer\n",
        "    model.add(keras.layers.Dense(64, kernel_initializer='he_uniform'))\n",
        "    model.add(keras.layers.ReLU())\n",
        "    model.add(keras.layers.Dropout(0.5))\n",
        "\n",
        "    # second dense layer\n",
        "    model.add(keras.layers.Dense(64, kernel_initializer='he_uniform'))\n",
        "    model.add(keras.layers.ReLU())\n",
        "    model.add(keras.layers.Dropout(0.5))\n",
        "\n",
        "    # output layer\n",
        "    model.add(keras.layers.Dense(4, kernel_initializer='he_uniform', activation='sigmoid'))\n",
        "    return model"
      ]
    },
    {
      "cell_type": "code",
      "execution_count": 22,
      "metadata": {
        "id": "BBHzhF3W0pQB"
      },
      "outputs": [
        {
          "name": "stdout",
          "output_type": "stream",
          "text": [
            "Model: \"sequential_1\"\n",
            "_________________________________________________________________\n",
            " Layer (type)                Output Shape              Param #   \n",
            "=================================================================\n",
            " conv2d_2 (Conv2D)           (None, 28, 28, 32)        832       \n",
            "                                                                 \n",
            " re_lu_4 (ReLU)              (None, 28, 28, 32)        0         \n",
            "                                                                 \n",
            " max_pooling2d_2 (MaxPoolin  (None, 14, 14, 32)        0         \n",
            " g2D)                                                            \n",
            "                                                                 \n",
            " conv2d_3 (Conv2D)           (None, 14, 14, 32)        9248      \n",
            "                                                                 \n",
            " re_lu_5 (ReLU)              (None, 14, 14, 32)        0         \n",
            "                                                                 \n",
            " max_pooling2d_3 (MaxPoolin  (None, 7, 7, 32)          0         \n",
            " g2D)                                                            \n",
            "                                                                 \n",
            " flatten_1 (Flatten)         (None, 1568)              0         \n",
            "                                                                 \n",
            " dense_3 (Dense)             (None, 64)                100416    \n",
            "                                                                 \n",
            " re_lu_6 (ReLU)              (None, 64)                0         \n",
            "                                                                 \n",
            " dropout_2 (Dropout)         (None, 64)                0         \n",
            "                                                                 \n",
            " dense_4 (Dense)             (None, 64)                4160      \n",
            "                                                                 \n",
            " re_lu_7 (ReLU)              (None, 64)                0         \n",
            "                                                                 \n",
            " dropout_3 (Dropout)         (None, 64)                0         \n",
            "                                                                 \n",
            " dense_5 (Dense)             (None, 4)                 260       \n",
            "                                                                 \n",
            "=================================================================\n",
            "Total params: 114916 (448.89 KB)\n",
            "Trainable params: 114916 (448.89 KB)\n",
            "Non-trainable params: 0 (0.00 Byte)\n",
            "_________________________________________________________________\n",
            "None\n"
          ]
        }
      ],
      "source": [
        "# create a model\n",
        "model = get_model()\n",
        "print(model.summary())\n",
        "model.compile(\n",
        "    optimizer=keras.optimizers.Adam(learning_rate=3e-4),\n",
        "    loss=keras.losses.BinaryCrossentropy(from_logits=False),\n",
        "    metrics='accuracy'\n",
        ")"
      ]
    },
    {
      "cell_type": "code",
      "execution_count": 23,
      "metadata": {},
      "outputs": [],
      "source": [
        "for file in os.listdir('Checkpoints'):\n",
        "    os.remove(f'Checkpoints/{file}')"
      ]
    },
    {
      "cell_type": "code",
      "execution_count": 24,
      "metadata": {},
      "outputs": [],
      "source": [
        "model_checkpoint_callback = tf.keras.callbacks.ModelCheckpoint(\n",
        "    filepath='Checkpoints/{epoch:02d}-{val_loss:.2f}.hdf5',\n",
        "    save_weights_only=False,\n",
        "    monitor='val_accuracy',\n",
        "    mode='max',\n",
        "    save_best_only=True\n",
        ")"
      ]
    },
    {
      "cell_type": "code",
      "execution_count": 25,
      "metadata": {
        "id": "czZby5tq5kYH"
      },
      "outputs": [
        {
          "name": "stdout",
          "output_type": "stream",
          "text": [
            "Epoch 1/100\n",
            "800/800 [==============================] - 5s 4ms/step - loss: 0.5334 - accuracy: 0.3438 - val_loss: 0.4064 - val_accuracy: 0.9843\n",
            "Epoch 2/100\n",
            "800/800 [==============================] - 3s 4ms/step - loss: 0.3882 - accuracy: 0.3762 - val_loss: 0.2516 - val_accuracy: 0.7677\n",
            "Epoch 3/100\n",
            "800/800 [==============================] - 3s 4ms/step - loss: 0.2853 - accuracy: 0.3913 - val_loss: 0.2244 - val_accuracy: 0.5669\n",
            "Epoch 4/100\n",
            "800/800 [==============================] - 3s 4ms/step - loss: 0.2545 - accuracy: 0.4238 - val_loss: 0.1696 - val_accuracy: 0.5394\n",
            "Epoch 5/100\n",
            "800/800 [==============================] - 3s 4ms/step - loss: 0.2256 - accuracy: 0.3875 - val_loss: 0.1672 - val_accuracy: 0.3465\n",
            "Epoch 6/100\n",
            "800/800 [==============================] - 3s 4ms/step - loss: 0.1911 - accuracy: 0.3825 - val_loss: 0.1368 - val_accuracy: 0.4449\n",
            "Epoch 7/100\n",
            "800/800 [==============================] - 3s 4ms/step - loss: 0.1628 - accuracy: 0.4125 - val_loss: 0.0842 - val_accuracy: 0.4724\n",
            "Epoch 8/100\n",
            "800/800 [==============================] - 3s 4ms/step - loss: 0.1460 - accuracy: 0.3787 - val_loss: 0.1087 - val_accuracy: 0.1614\n",
            "Epoch 9/100\n",
            "800/800 [==============================] - 3s 4ms/step - loss: 0.1374 - accuracy: 0.3587 - val_loss: 0.0832 - val_accuracy: 0.1220\n",
            "Epoch 10/100\n",
            "800/800 [==============================] - 3s 4ms/step - loss: 0.1060 - accuracy: 0.3963 - val_loss: 0.0708 - val_accuracy: 0.5472\n",
            "Epoch 11/100\n",
            "800/800 [==============================] - 3s 4ms/step - loss: 0.1003 - accuracy: 0.3375 - val_loss: 0.0864 - val_accuracy: 0.0827\n",
            "Epoch 12/100\n",
            "800/800 [==============================] - 3s 4ms/step - loss: 0.1007 - accuracy: 0.3625 - val_loss: 0.0757 - val_accuracy: 0.1575\n",
            "Epoch 13/100\n",
            "800/800 [==============================] - 3s 4ms/step - loss: 0.0959 - accuracy: 0.3512 - val_loss: 0.0722 - val_accuracy: 0.6969\n",
            "Epoch 14/100\n",
            "800/800 [==============================] - 3s 4ms/step - loss: 0.0914 - accuracy: 0.3675 - val_loss: 0.0827 - val_accuracy: 0.0551\n",
            "Epoch 15/100\n",
            "800/800 [==============================] - 3s 4ms/step - loss: 0.0848 - accuracy: 0.3512 - val_loss: 0.0478 - val_accuracy: 0.0945\n",
            "Epoch 16/100\n",
            "800/800 [==============================] - 3s 4ms/step - loss: 0.0849 - accuracy: 0.3625 - val_loss: 0.1058 - val_accuracy: 0.1063\n",
            "Epoch 17/100\n",
            "800/800 [==============================] - 3s 4ms/step - loss: 0.0795 - accuracy: 0.4150 - val_loss: 0.0853 - val_accuracy: 0.2165\n",
            "Epoch 18/100\n",
            "800/800 [==============================] - 3s 4ms/step - loss: 0.0743 - accuracy: 0.3388 - val_loss: 0.1031 - val_accuracy: 0.1535\n",
            "Epoch 19/100\n",
            "800/800 [==============================] - 4s 5ms/step - loss: 0.0685 - accuracy: 0.3688 - val_loss: 0.0689 - val_accuracy: 0.0827\n",
            "Epoch 20/100\n",
            "800/800 [==============================] - 4s 5ms/step - loss: 0.0815 - accuracy: 0.4075 - val_loss: 0.0519 - val_accuracy: 0.0591\n",
            "Epoch 21/100\n",
            "800/800 [==============================] - 4s 5ms/step - loss: 0.0669 - accuracy: 0.3338 - val_loss: 0.0898 - val_accuracy: 0.0472\n",
            "Epoch 22/100\n",
            "800/800 [==============================] - 4s 4ms/step - loss: 0.0582 - accuracy: 0.3325 - val_loss: 0.0676 - val_accuracy: 0.1142\n",
            "Epoch 23/100\n",
            "800/800 [==============================] - 4s 5ms/step - loss: 0.0634 - accuracy: 0.3700 - val_loss: 0.0880 - val_accuracy: 0.0945\n",
            "Epoch 24/100\n",
            "800/800 [==============================] - 4s 5ms/step - loss: 0.0520 - accuracy: 0.3725 - val_loss: 0.0426 - val_accuracy: 0.0433\n",
            "Epoch 25/100\n",
            "800/800 [==============================] - 4s 5ms/step - loss: 0.0531 - accuracy: 0.3550 - val_loss: 0.0503 - val_accuracy: 0.1181\n",
            "Epoch 26/100\n",
            "800/800 [==============================] - 4s 5ms/step - loss: 0.0492 - accuracy: 0.3812 - val_loss: 0.0702 - val_accuracy: 0.0315\n",
            "Epoch 27/100\n",
            "800/800 [==============================] - 4s 5ms/step - loss: 0.0525 - accuracy: 0.3450 - val_loss: 0.0563 - val_accuracy: 0.1457\n",
            "Epoch 28/100\n",
            "800/800 [==============================] - 4s 4ms/step - loss: 0.0554 - accuracy: 0.3475 - val_loss: 0.0793 - val_accuracy: 0.0630\n",
            "Epoch 29/100\n",
            "800/800 [==============================] - 4s 4ms/step - loss: 0.0486 - accuracy: 0.3537 - val_loss: 0.0591 - val_accuracy: 0.0787\n",
            "Epoch 30/100\n",
            "800/800 [==============================] - 4s 4ms/step - loss: 0.0526 - accuracy: 0.3413 - val_loss: 0.0307 - val_accuracy: 0.0039\n",
            "Epoch 31/100\n",
            "800/800 [==============================] - 4s 4ms/step - loss: 0.0462 - accuracy: 0.3875 - val_loss: 0.0262 - val_accuracy: 0.1732\n",
            "Epoch 32/100\n",
            "800/800 [==============================] - 4s 5ms/step - loss: 0.0397 - accuracy: 0.3512 - val_loss: 0.0528 - val_accuracy: 0.0472\n",
            "Epoch 33/100\n",
            "800/800 [==============================] - 4s 5ms/step - loss: 0.0492 - accuracy: 0.3738 - val_loss: 0.0216 - val_accuracy: 0.0276\n",
            "Epoch 34/100\n",
            "800/800 [==============================] - 4s 4ms/step - loss: 0.0423 - accuracy: 0.3600 - val_loss: 0.0667 - val_accuracy: 0.0315\n",
            "Epoch 35/100\n",
            "800/800 [==============================] - 4s 5ms/step - loss: 0.0427 - accuracy: 0.3512 - val_loss: 0.0603 - val_accuracy: 0.0276\n",
            "Epoch 36/100\n",
            "800/800 [==============================] - 4s 5ms/step - loss: 0.0410 - accuracy: 0.3537 - val_loss: 0.0614 - val_accuracy: 0.1496\n",
            "Epoch 37/100\n",
            "800/800 [==============================] - 4s 5ms/step - loss: 0.0429 - accuracy: 0.3250 - val_loss: 0.0539 - val_accuracy: 0.0236\n",
            "Epoch 38/100\n",
            "800/800 [==============================] - 4s 5ms/step - loss: 0.0413 - accuracy: 0.3350 - val_loss: 0.0493 - val_accuracy: 0.0551\n",
            "Epoch 39/100\n",
            "800/800 [==============================] - 4s 5ms/step - loss: 0.0446 - accuracy: 0.3313 - val_loss: 0.0552 - val_accuracy: 0.1102\n",
            "Epoch 40/100\n",
            "800/800 [==============================] - 4s 5ms/step - loss: 0.0490 - accuracy: 0.3250 - val_loss: 0.0642 - val_accuracy: 0.0472\n",
            "Epoch 41/100\n",
            "800/800 [==============================] - 4s 5ms/step - loss: 0.0314 - accuracy: 0.3738 - val_loss: 0.0415 - val_accuracy: 0.1693\n",
            "Epoch 42/100\n",
            "800/800 [==============================] - 4s 5ms/step - loss: 0.0376 - accuracy: 0.3800 - val_loss: 0.0696 - val_accuracy: 0.6575\n",
            "Epoch 43/100\n",
            "800/800 [==============================] - 4s 5ms/step - loss: 0.0364 - accuracy: 0.3787 - val_loss: 0.0329 - val_accuracy: 0.1811\n",
            "Epoch 44/100\n",
            "800/800 [==============================] - 4s 4ms/step - loss: 0.0312 - accuracy: 0.3862 - val_loss: 0.0632 - val_accuracy: 0.1102\n",
            "Epoch 45/100\n",
            "800/800 [==============================] - 4s 4ms/step - loss: 0.0405 - accuracy: 0.3288 - val_loss: 0.0345 - val_accuracy: 0.0039\n",
            "Epoch 46/100\n",
            "800/800 [==============================] - 3s 4ms/step - loss: 0.0349 - accuracy: 0.3212 - val_loss: 0.0637 - val_accuracy: 0.0276\n",
            "Epoch 47/100\n",
            "800/800 [==============================] - 4s 4ms/step - loss: 0.0315 - accuracy: 0.3787 - val_loss: 0.0249 - val_accuracy: 0.0236\n",
            "Epoch 48/100\n",
            "800/800 [==============================] - 3s 4ms/step - loss: 0.0332 - accuracy: 0.3587 - val_loss: 0.0381 - val_accuracy: 0.0472\n",
            "Epoch 49/100\n",
            "800/800 [==============================] - 4s 5ms/step - loss: 0.0359 - accuracy: 0.3575 - val_loss: 0.0337 - val_accuracy: 0.0276\n",
            "Epoch 50/100\n",
            "800/800 [==============================] - 3s 4ms/step - loss: 0.0350 - accuracy: 0.4075 - val_loss: 0.0263 - val_accuracy: 0.0354\n",
            "Epoch 51/100\n",
            "800/800 [==============================] - 4s 5ms/step - loss: 0.0322 - accuracy: 0.3650 - val_loss: 0.0503 - val_accuracy: 0.0118\n",
            "Epoch 52/100\n",
            "800/800 [==============================] - 4s 5ms/step - loss: 0.0281 - accuracy: 0.3425 - val_loss: 0.0608 - val_accuracy: 0.0157\n",
            "Epoch 53/100\n",
            "800/800 [==============================] - 4s 5ms/step - loss: 0.0311 - accuracy: 0.4062 - val_loss: 0.0461 - val_accuracy: 0.0827\n",
            "Epoch 54/100\n",
            "800/800 [==============================] - 4s 5ms/step - loss: 0.0268 - accuracy: 0.4212 - val_loss: 0.0254 - val_accuracy: 0.1024\n",
            "Epoch 55/100\n",
            "800/800 [==============================] - 4s 5ms/step - loss: 0.0290 - accuracy: 0.3850 - val_loss: 0.0450 - val_accuracy: 0.2283\n",
            "Epoch 56/100\n",
            "800/800 [==============================] - 4s 5ms/step - loss: 0.0318 - accuracy: 0.4150 - val_loss: 0.0255 - val_accuracy: 0.1496\n",
            "Epoch 57/100\n",
            "800/800 [==============================] - 4s 5ms/step - loss: 0.0332 - accuracy: 0.3625 - val_loss: 0.0374 - val_accuracy: 0.0551\n",
            "Epoch 58/100\n",
            "800/800 [==============================] - 4s 6ms/step - loss: 0.0310 - accuracy: 0.3625 - val_loss: 0.0349 - val_accuracy: 0.0866\n",
            "Epoch 59/100\n",
            "800/800 [==============================] - 4s 4ms/step - loss: 0.0227 - accuracy: 0.3875 - val_loss: 0.0115 - val_accuracy: 0.0551\n",
            "Epoch 60/100\n",
            "800/800 [==============================] - 4s 5ms/step - loss: 0.0298 - accuracy: 0.3525 - val_loss: 0.0158 - val_accuracy: 0.0039\n",
            "Epoch 61/100\n",
            "800/800 [==============================] - 3s 4ms/step - loss: 0.0321 - accuracy: 0.3413 - val_loss: 0.0114 - val_accuracy: 0.0079\n",
            "Epoch 62/100\n",
            "800/800 [==============================] - 4s 5ms/step - loss: 0.0300 - accuracy: 0.3975 - val_loss: 0.0240 - val_accuracy: 0.0354\n",
            "Epoch 63/100\n",
            "800/800 [==============================] - 4s 5ms/step - loss: 0.0277 - accuracy: 0.4125 - val_loss: 0.0266 - val_accuracy: 0.0512\n",
            "Epoch 64/100\n",
            "800/800 [==============================] - 4s 5ms/step - loss: 0.0296 - accuracy: 0.4238 - val_loss: 0.0552 - val_accuracy: 0.0433\n",
            "Epoch 65/100\n",
            "800/800 [==============================] - 4s 5ms/step - loss: 0.0223 - accuracy: 0.4225 - val_loss: 0.0176 - val_accuracy: 0.0906\n",
            "Epoch 66/100\n",
            "800/800 [==============================] - 4s 5ms/step - loss: 0.0246 - accuracy: 0.3713 - val_loss: 0.0440 - val_accuracy: 0.0039\n",
            "Epoch 67/100\n",
            "800/800 [==============================] - 4s 4ms/step - loss: 0.0245 - accuracy: 0.3812 - val_loss: 0.0087 - val_accuracy: 0.0276\n",
            "Epoch 68/100\n",
            "800/800 [==============================] - 4s 4ms/step - loss: 0.0203 - accuracy: 0.3925 - val_loss: 0.0444 - val_accuracy: 0.1654\n",
            "Epoch 69/100\n",
            "800/800 [==============================] - 4s 4ms/step - loss: 0.0215 - accuracy: 0.4200 - val_loss: 0.0538 - val_accuracy: 0.0315\n",
            "Epoch 70/100\n",
            "800/800 [==============================] - 4s 5ms/step - loss: 0.0273 - accuracy: 0.4150 - val_loss: 0.0442 - val_accuracy: 0.1024\n",
            "Epoch 71/100\n",
            "800/800 [==============================] - 4s 4ms/step - loss: 0.0289 - accuracy: 0.3700 - val_loss: 0.0222 - val_accuracy: 0.0315\n",
            "Epoch 72/100\n",
            "800/800 [==============================] - 4s 5ms/step - loss: 0.0193 - accuracy: 0.3925 - val_loss: 0.0280 - val_accuracy: 0.0079\n",
            "Epoch 73/100\n",
            "800/800 [==============================] - 4s 5ms/step - loss: 0.0173 - accuracy: 0.3462 - val_loss: 0.0321 - val_accuracy: 0.0079\n",
            "Epoch 74/100\n",
            "800/800 [==============================] - 4s 5ms/step - loss: 0.0260 - accuracy: 0.3750 - val_loss: 0.0765 - val_accuracy: 0.0276\n",
            "Epoch 75/100\n",
            "800/800 [==============================] - 4s 5ms/step - loss: 0.0224 - accuracy: 0.3875 - val_loss: 0.0638 - val_accuracy: 0.0197\n",
            "Epoch 76/100\n",
            "800/800 [==============================] - 4s 5ms/step - loss: 0.0320 - accuracy: 0.3388 - val_loss: 0.0700 - val_accuracy: 0.0236\n",
            "Epoch 77/100\n",
            "800/800 [==============================] - 4s 5ms/step - loss: 0.0202 - accuracy: 0.3800 - val_loss: 0.0458 - val_accuracy: 0.0079\n",
            "Epoch 78/100\n",
            "800/800 [==============================] - 4s 5ms/step - loss: 0.0221 - accuracy: 0.4013 - val_loss: 0.0428 - val_accuracy: 0.0039\n",
            "Epoch 79/100\n",
            "800/800 [==============================] - 4s 5ms/step - loss: 0.0170 - accuracy: 0.4175 - val_loss: 0.0046 - val_accuracy: 0.1378\n",
            "Epoch 80/100\n",
            "800/800 [==============================] - 4s 5ms/step - loss: 0.0190 - accuracy: 0.4112 - val_loss: 0.0140 - val_accuracy: 0.0394\n",
            "Epoch 81/100\n",
            "800/800 [==============================] - 4s 5ms/step - loss: 0.0237 - accuracy: 0.3587 - val_loss: 0.0692 - val_accuracy: 0.0472\n",
            "Epoch 82/100\n",
            "800/800 [==============================] - 4s 5ms/step - loss: 0.0164 - accuracy: 0.3625 - val_loss: 0.0715 - val_accuracy: 0.0079\n",
            "Epoch 83/100\n",
            "800/800 [==============================] - 4s 5ms/step - loss: 0.0245 - accuracy: 0.4162 - val_loss: 0.0205 - val_accuracy: 0.0039\n",
            "Epoch 84/100\n",
            "800/800 [==============================] - 4s 5ms/step - loss: 0.0239 - accuracy: 0.3775 - val_loss: 0.0179 - val_accuracy: 0.0157\n",
            "Epoch 85/100\n",
            "800/800 [==============================] - 4s 5ms/step - loss: 0.0178 - accuracy: 0.3925 - val_loss: 0.0207 - val_accuracy: 0.0079\n",
            "Epoch 86/100\n",
            "800/800 [==============================] - 4s 5ms/step - loss: 0.0140 - accuracy: 0.3600 - val_loss: 0.0371 - val_accuracy: 0.0827\n",
            "Epoch 87/100\n",
            "800/800 [==============================] - 4s 5ms/step - loss: 0.0225 - accuracy: 0.3787 - val_loss: 0.0303 - val_accuracy: 0.0315\n",
            "Epoch 88/100\n",
            "800/800 [==============================] - 4s 5ms/step - loss: 0.0169 - accuracy: 0.3725 - val_loss: 0.0121 - val_accuracy: 0.0394\n",
            "Epoch 89/100\n",
            "800/800 [==============================] - 4s 5ms/step - loss: 0.0193 - accuracy: 0.3925 - val_loss: 0.0154 - val_accuracy: 0.0197\n",
            "Epoch 90/100\n",
            "800/800 [==============================] - 4s 5ms/step - loss: 0.0250 - accuracy: 0.3738 - val_loss: 0.0233 - val_accuracy: 0.0079\n",
            "Epoch 91/100\n",
            "800/800 [==============================] - 4s 5ms/step - loss: 0.0262 - accuracy: 0.3775 - val_loss: 0.0252 - val_accuracy: 0.0118\n",
            "Epoch 92/100\n",
            "800/800 [==============================] - 4s 5ms/step - loss: 0.0150 - accuracy: 0.4187 - val_loss: 0.0191 - val_accuracy: 0.0197\n",
            "Epoch 93/100\n",
            "800/800 [==============================] - 4s 5ms/step - loss: 0.0170 - accuracy: 0.3738 - val_loss: 0.0223 - val_accuracy: 0.0157\n",
            "Epoch 94/100\n",
            "800/800 [==============================] - 4s 5ms/step - loss: 0.0214 - accuracy: 0.4038 - val_loss: 0.0113 - val_accuracy: 0.0039\n",
            "Epoch 95/100\n",
            "800/800 [==============================] - 4s 5ms/step - loss: 0.0222 - accuracy: 0.3638 - val_loss: 0.0155 - val_accuracy: 0.0039\n",
            "Epoch 96/100\n",
            "800/800 [==============================] - 4s 5ms/step - loss: 0.0172 - accuracy: 0.3487 - val_loss: 0.0403 - val_accuracy: 0.0039\n",
            "Epoch 97/100\n",
            "800/800 [==============================] - 4s 5ms/step - loss: 0.0252 - accuracy: 0.3850 - val_loss: 0.0493 - val_accuracy: 0.0315\n",
            "Epoch 98/100\n",
            "800/800 [==============================] - 4s 4ms/step - loss: 0.0171 - accuracy: 0.3650 - val_loss: 0.0415 - val_accuracy: 0.0236\n",
            "Epoch 99/100\n",
            "800/800 [==============================] - 5s 6ms/step - loss: 0.0183 - accuracy: 0.3587 - val_loss: 0.0356 - val_accuracy: 0.0472\n",
            "Epoch 100/100\n",
            "800/800 [==============================] - 4s 5ms/step - loss: 0.0176 - accuracy: 0.3812 - val_loss: 0.0260 - val_accuracy: 0.0000e+00\n"
          ]
        }
      ],
      "source": [
        "history = model.fit(train_dataset, epochs=100, validation_data=test_dataset, callbacks=[model_checkpoint_callback])"
      ]
    },
    {
      "cell_type": "code",
      "execution_count": 26,
      "metadata": {},
      "outputs": [
        {
          "name": "stdout",
          "output_type": "stream",
          "text": [
            "254/254 [==============================] - 1s 2ms/step - loss: 0.0260 - accuracy: 0.0000e+00\n"
          ]
        },
        {
          "data": {
            "text/plain": [
              "[0.026007825508713722, 0.0]"
            ]
          },
          "execution_count": 26,
          "metadata": {},
          "output_type": "execute_result"
        }
      ],
      "source": [
        "model.evaluate(test_dataset)"
      ]
    },
    {
      "cell_type": "code",
      "execution_count": 30,
      "metadata": {
        "colab": {
          "base_uri": "https://localhost:8080/"
        },
        "id": "bLEhpsco79gj",
        "outputId": "70197a24-12c1-4ef0-a4f7-8c38976fb506"
      },
      "outputs": [
        {
          "name": "stdout",
          "output_type": "stream",
          "text": [
            "254/254 [==============================] - 1s 2ms/step\n"
          ]
        },
        {
          "data": {
            "text/plain": [
              "(False, False, True, False)"
            ]
          },
          "execution_count": 30,
          "metadata": {},
          "output_type": "execute_result"
        }
      ],
      "source": [
        "predictions = (model.predict(test_dataset) < 0.5)[0]\n",
        "tuple(predictions)"
      ]
    },
    {
      "cell_type": "code",
      "execution_count": null,
      "metadata": {
        "id": "w1LgB-CM-6rB"
      },
      "outputs": [],
      "source": []
    }
  ],
  "metadata": {
    "colab": {
      "provenance": []
    },
    "kernelspec": {
      "display_name": "Python 3",
      "name": "python3"
    },
    "language_info": {
      "codemirror_mode": {
        "name": "ipython",
        "version": 3
      },
      "file_extension": ".py",
      "mimetype": "text/x-python",
      "name": "python",
      "nbconvert_exporter": "python",
      "pygments_lexer": "ipython3",
      "version": "3.11.7"
    }
  },
  "nbformat": 4,
  "nbformat_minor": 0
}
