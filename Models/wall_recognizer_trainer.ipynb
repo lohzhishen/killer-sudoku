{
  "cells": [
    {
      "cell_type": "code",
      "execution_count": 1,
      "metadata": {
        "id": "3l_-8tvxz23_"
      },
      "outputs": [
        {
          "name": "stdout",
          "output_type": "stream",
          "text": [
            "WARNING:tensorflow:From c:\\Users\\lohzh\\Desktop\\Killer sudoku\\killer-sudoku\\.venv\\Lib\\site-packages\\keras\\src\\losses.py:2976: The name tf.losses.sparse_softmax_cross_entropy is deprecated. Please use tf.compat.v1.losses.sparse_softmax_cross_entropy instead.\n",
            "\n"
          ]
        }
      ],
      "source": [
        "import matplotlib.pyplot as plt\n",
        "from tensorflow import keras\n",
        "import tensorflow as tf\n",
        "import numpy as np\n",
        "import pathlib\n",
        "import os\n",
        "\n",
        "MODEL = pathlib.Path('wall_recognizer.keras')\n",
        "LABELLED = pathlib.Path('Dataset', 'Wall Recognizer', 'Labelled')"
      ]
    },
    {
      "cell_type": "code",
      "execution_count": 39,
      "metadata": {
        "id": "2wiR-Oaw0p-o"
      },
      "outputs": [],
      "source": [
        "BUFFER = 128\n",
        "\n",
        "file_paths = tf.data.Dataset.list_files(str(LABELLED/'*.png'), shuffle=False).shuffle(BUFFER, reshuffle_each_iteration=False)"
      ]
    },
    {
      "cell_type": "code",
      "execution_count": 48,
      "metadata": {
        "id": "kotssfuh1XDo"
      },
      "outputs": [],
      "source": [
        "def parse_images(file_path):\n",
        "    # extract label\n",
        "    label = tf.strings.split(file_path, os.path.sep)[-1]\n",
        "    label = tf.strings.split(label, '_')[:-1]\n",
        "    label = tf.strings.to_number(label, tf.int32)\n",
        "\n",
        "    # load image\n",
        "    image = tf.io.read_file(file_path)\n",
        "    image = tf.io.decode_png(image, channels=1)\n",
        "    image = tf.image.resize(image, [28, 28])\n",
        "    image = tf.cast(image, tf.float32) / 255\n",
        "    return image, label\n",
        "\n",
        "dataset = file_paths.map(parse_images)"
      ]
    },
    {
      "cell_type": "code",
      "execution_count": 49,
      "metadata": {
        "id": "L5ENpKce4qX1"
      },
      "outputs": [],
      "source": [
        "train_size = 1600\n",
        "\n",
        "train_dataset = dataset.take(train_size)\n",
        "test_dataset = dataset.skip(train_size)"
      ]
    },
    {
      "cell_type": "code",
      "execution_count": 50,
      "metadata": {
        "colab": {
          "base_uri": "https://localhost:8080/"
        },
        "id": "olRCDr1q6BLo",
        "outputId": "d92f2051-0c73-4110-c7c0-fdf49a662132"
      },
      "outputs": [
        {
          "name": "stdout",
          "output_type": "stream",
          "text": [
            "(28, 28, 1)\n"
          ]
        }
      ],
      "source": [
        "image = iter(train_dataset).__next__()\n",
        "print(image[0].shape)"
      ]
    },
    {
      "cell_type": "code",
      "execution_count": 51,
      "metadata": {
        "colab": {
          "base_uri": "https://localhost:8080/",
          "height": 378
        },
        "id": "bQnrU_yf5HlG",
        "outputId": "637f837d-e285-422f-99d1-3c477d05db56"
      },
      "outputs": [
        {
          "data": {
            "image/png": "[encoded data removed]",
            "text/plain": [
              "<Figure size 1500x500 with 3 Axes>"
            ]
          },
          "metadata": {},
          "output_type": "display_data"
        }
      ],
      "source": [
        "plt.figure(figsize=(15, 5))\n",
        "for i, (image, label) in zip(range(3), iter(train_dataset)):\n",
        "    label = label.numpy().astype(np.uint8).tolist()\n",
        "\n",
        "    plt.subplot(1, 3, i + 1)\n",
        "    plt.imshow(image, cmap='gray')\n",
        "    plt.xticks([])\n",
        "    plt.yticks([])\n",
        "    plt.title('_'.join([str(x) for x in label]))\n",
        "plt.show()"
      ]
    },
    {
      "cell_type": "code",
      "execution_count": 52,
      "metadata": {
        "id": "djm8qV5h8iBW"
      },
      "outputs": [],
      "source": [
        "train_dataset = train_dataset.batch(128)\n",
        "test_dataset = test_dataset.batch(128)"
      ]
    },
    {
      "cell_type": "code",
      "execution_count": 53,
      "metadata": {
        "id": "EbPuuM0k0PlU"
      },
      "outputs": [],
      "source": [
        "def get_model():\n",
        "    model = keras.Sequential()\n",
        "\n",
        "    # input layer\n",
        "    model.add(keras.layers.InputLayer(input_shape=(28, 28, 1)))\n",
        "\n",
        "    # first convolution layer\n",
        "    model.add(keras.layers.Conv2D(32, (5, 5), padding='same', kernel_initializer='he_uniform'))\n",
        "    model.add(keras.layers.ReLU())\n",
        "    model.add(keras.layers.MaxPooling2D(pool_size=(2, 2)))\n",
        "\n",
        "    # second convolution layer\n",
        "    model.add(keras.layers.Conv2D(32, (3, 3), padding='same', kernel_initializer='he_uniform'))\n",
        "    model.add(keras.layers.ReLU())\n",
        "    model.add(keras.layers.MaxPooling2D(pool_size=(2, 2)))\n",
        "\n",
        "    # transition to fully connected layers\n",
        "    model.add(keras.layers.Flatten())\n",
        "\n",
        "    # first dense layer\n",
        "    model.add(keras.layers.Dense(64, kernel_initializer='he_uniform'))\n",
        "    model.add(keras.layers.ReLU())\n",
        "    model.add(keras.layers.Dropout(0.5))\n",
        "\n",
        "    # second dense layer\n",
        "    model.add(keras.layers.Dense(64, kernel_initializer='he_uniform'))\n",
        "    model.add(keras.layers.ReLU())\n",
        "    model.add(keras.layers.Dropout(0.5))\n",
        "\n",
        "    # output layer\n",
        "    model.add(keras.layers.Dense(4, kernel_initializer='he_uniform', activation='sigmoid'))\n",
        "    return model"
      ]
    },
    {
      "cell_type": "code",
      "execution_count": 54,
      "metadata": {
        "id": "BBHzhF3W0pQB"
      },
      "outputs": [
        {
          "name": "stdout",
          "output_type": "stream",
          "text": [
            "Model: \"sequential_3\"\n",
            "_________________________________________________________________\n",
            " Layer (type)                Output Shape              Param #   \n",
            "=================================================================\n",
            " conv2d_6 (Conv2D)           (None, 28, 28, 32)        832       \n",
            "                                                                 \n",
            " re_lu_12 (ReLU)             (None, 28, 28, 32)        0         \n",
            "                                                                 \n",
            " max_pooling2d_6 (MaxPoolin  (None, 14, 14, 32)        0         \n",
            " g2D)                                                            \n",
            "                                                                 \n",
            " conv2d_7 (Conv2D)           (None, 14, 14, 32)        9248      \n",
            "                                                                 \n",
            " re_lu_13 (ReLU)             (None, 14, 14, 32)        0         \n",
            "                                                                 \n",
            " max_pooling2d_7 (MaxPoolin  (None, 7, 7, 32)          0         \n",
            " g2D)                                                            \n",
            "                                                                 \n",
            " flatten_3 (Flatten)         (None, 1568)              0         \n",
            "                                                                 \n",
            " dense_9 (Dense)             (None, 64)                100416    \n",
            "                                                                 \n",
            " re_lu_14 (ReLU)             (None, 64)                0         \n",
            "                                                                 \n",
            " dropout_6 (Dropout)         (None, 64)                0         \n",
            "                                                                 \n",
            " dense_10 (Dense)            (None, 64)                4160      \n",
            "                                                                 \n",
            " re_lu_15 (ReLU)             (None, 64)                0         \n",
            "                                                                 \n",
            " dropout_7 (Dropout)         (None, 64)                0         \n",
            "                                                                 \n",
            " dense_11 (Dense)            (None, 4)                 260       \n",
            "                                                                 \n",
            "=================================================================\n",
            "Total params: 114916 (448.89 KB)\n",
            "Trainable params: 114916 (448.89 KB)\n",
            "Non-trainable params: 0 (0.00 Byte)\n",
            "_________________________________________________________________\n",
            "None\n"
          ]
        }
      ],
      "source": [
        "# create a model\n",
        "model = get_model()\n",
        "print(model.summary())\n",
        "model.compile(\n",
        "    optimizer=keras.optimizers.Adam(learning_rate=1e-4),\n",
        "    loss=keras.losses.BinaryCrossentropy(from_logits=False),\n",
        "    metrics='accuracy'\n",
        ")"
      ]
    },
    {
      "cell_type": "code",
      "execution_count": 55,
      "metadata": {},
      "outputs": [],
      "source": [
        "for file in os.listdir('Checkpoints'):\n",
        "    os.remove(f'Checkpoints/{file}')"
      ]
    },
    {
      "cell_type": "code",
      "execution_count": 56,
      "metadata": {},
      "outputs": [],
      "source": [
        "model_checkpoint_callback = tf.keras.callbacks.ModelCheckpoint(\n",
        "    filepath='Checkpoints/{epoch:02d}-{val_loss:.2f}.hdf5',\n",
        "    save_weights_only=False,\n",
        "    monitor='val_accuracy',\n",
        "    mode='max',\n",
        "    save_best_only=True\n",
        ")"
      ]
    },
    {
      "cell_type": "code",
      "execution_count": 57,
      "metadata": {
        "id": "czZby5tq5kYH"
      },
      "outputs": [
        {
          "name": "stdout",
          "output_type": "stream",
          "text": [
            "Epoch 1/100\n",
            "13/13 [==============================] - 4s 160ms/step - loss: 0.8379 - accuracy: 0.2025 - val_loss: 0.7901 - val_accuracy: 0.0000e+00\n",
            "Epoch 2/100\n",
            "13/13 [==============================] - 2s 160ms/step - loss: 0.7097 - accuracy: 0.2119 - val_loss: 0.7229 - val_accuracy: 0.0141\n",
            "Epoch 3/100\n",
            "13/13 [==============================] - 2s 151ms/step - loss: 0.6644 - accuracy: 0.2619 - val_loss: 0.6786 - val_accuracy: 0.0634\n",
            "Epoch 4/100\n",
            "13/13 [==============================] - 2s 163ms/step - loss: 0.6498 - accuracy: 0.2988 - val_loss: 0.6539 - val_accuracy: 0.1174\n",
            "Epoch 5/100\n",
            "13/13 [==============================] - 2s 179ms/step - loss: 0.6379 - accuracy: 0.2956 - val_loss: 0.6412 - val_accuracy: 0.1643\n",
            "Epoch 6/100\n",
            "13/13 [==============================] - 2s 161ms/step - loss: 0.6204 - accuracy: 0.3475 - val_loss: 0.6228 - val_accuracy: 0.2676\n",
            "Epoch 7/100\n",
            "13/13 [==============================] - 2s 184ms/step - loss: 0.6140 - accuracy: 0.3606 - val_loss: 0.6140 - val_accuracy: 0.2911\n",
            "Epoch 8/100\n",
            "13/13 [==============================] - 2s 147ms/step - loss: 0.6032 - accuracy: 0.3613 - val_loss: 0.6127 - val_accuracy: 0.2934\n",
            "Epoch 9/100\n",
            "13/13 [==============================] - 2s 139ms/step - loss: 0.5932 - accuracy: 0.3694 - val_loss: 0.6041 - val_accuracy: 0.2911\n",
            "Epoch 10/100\n",
            "13/13 [==============================] - 2s 148ms/step - loss: 0.5809 - accuracy: 0.3781 - val_loss: 0.5957 - val_accuracy: 0.3263\n",
            "Epoch 11/100\n",
            "13/13 [==============================] - 2s 138ms/step - loss: 0.5667 - accuracy: 0.3738 - val_loss: 0.5859 - val_accuracy: 0.3310\n",
            "Epoch 12/100\n",
            "13/13 [==============================] - 2s 122ms/step - loss: 0.5588 - accuracy: 0.3413 - val_loss: 0.5841 - val_accuracy: 0.3052\n",
            "Epoch 13/100\n",
            "13/13 [==============================] - 2s 133ms/step - loss: 0.5492 - accuracy: 0.3587 - val_loss: 0.5881 - val_accuracy: 0.2559\n",
            "Epoch 14/100\n",
            "13/13 [==============================] - 2s 121ms/step - loss: 0.5422 - accuracy: 0.3338 - val_loss: 0.5827 - val_accuracy: 0.3028\n",
            "Epoch 15/100\n",
            "13/13 [==============================] - 2s 121ms/step - loss: 0.5365 - accuracy: 0.3731 - val_loss: 0.5683 - val_accuracy: 0.3310\n",
            "Epoch 16/100\n",
            "13/13 [==============================] - 2s 132ms/step - loss: 0.5252 - accuracy: 0.3738 - val_loss: 0.5632 - val_accuracy: 0.3146\n",
            "Epoch 17/100\n",
            "13/13 [==============================] - 2s 138ms/step - loss: 0.5100 - accuracy: 0.3738 - val_loss: 0.5674 - val_accuracy: 0.2934\n",
            "Epoch 18/100\n",
            "13/13 [==============================] - 2s 144ms/step - loss: 0.5067 - accuracy: 0.3481 - val_loss: 0.5643 - val_accuracy: 0.3122\n",
            "Epoch 19/100\n",
            "13/13 [==============================] - 2s 142ms/step - loss: 0.4952 - accuracy: 0.3544 - val_loss: 0.5512 - val_accuracy: 0.2864\n",
            "Epoch 20/100\n",
            "13/13 [==============================] - 2s 161ms/step - loss: 0.4926 - accuracy: 0.3831 - val_loss: 0.5357 - val_accuracy: 0.2911\n",
            "Epoch 21/100\n",
            "13/13 [==============================] - 2s 164ms/step - loss: 0.4875 - accuracy: 0.3781 - val_loss: 0.5381 - val_accuracy: 0.2676\n",
            "Epoch 22/100\n",
            "13/13 [==============================] - 2s 153ms/step - loss: 0.4811 - accuracy: 0.3594 - val_loss: 0.5432 - val_accuracy: 0.2488\n",
            "Epoch 23/100\n",
            "13/13 [==============================] - 2s 153ms/step - loss: 0.4767 - accuracy: 0.3363 - val_loss: 0.5341 - val_accuracy: 0.2418\n",
            "Epoch 24/100\n",
            "13/13 [==============================] - 2s 155ms/step - loss: 0.4620 - accuracy: 0.3613 - val_loss: 0.5181 - val_accuracy: 0.2488\n",
            "Epoch 25/100\n",
            "13/13 [==============================] - 2s 144ms/step - loss: 0.4585 - accuracy: 0.3594 - val_loss: 0.5149 - val_accuracy: 0.3028\n",
            "Epoch 26/100\n",
            "13/13 [==============================] - 2s 157ms/step - loss: 0.4615 - accuracy: 0.3425 - val_loss: 0.5217 - val_accuracy: 0.2629\n",
            "Epoch 27/100\n",
            "13/13 [==============================] - 2s 157ms/step - loss: 0.4534 - accuracy: 0.3600 - val_loss: 0.5213 - val_accuracy: 0.2676\n",
            "Epoch 28/100\n",
            "13/13 [==============================] - 2s 140ms/step - loss: 0.4269 - accuracy: 0.3537 - val_loss: 0.5106 - val_accuracy: 0.2700\n",
            "Epoch 29/100\n",
            "13/13 [==============================] - 2s 167ms/step - loss: 0.4372 - accuracy: 0.3706 - val_loss: 0.5007 - val_accuracy: 0.2629\n",
            "Epoch 30/100\n",
            "13/13 [==============================] - 2s 161ms/step - loss: 0.4334 - accuracy: 0.3544 - val_loss: 0.4961 - val_accuracy: 0.2441\n",
            "Epoch 31/100\n",
            "13/13 [==============================] - 2s 154ms/step - loss: 0.4256 - accuracy: 0.3731 - val_loss: 0.5063 - val_accuracy: 0.2418\n",
            "Epoch 32/100\n",
            "13/13 [==============================] - 2s 156ms/step - loss: 0.4183 - accuracy: 0.3638 - val_loss: 0.4909 - val_accuracy: 0.2817\n",
            "Epoch 33/100\n",
            "13/13 [==============================] - 2s 145ms/step - loss: 0.4020 - accuracy: 0.3931 - val_loss: 0.4772 - val_accuracy: 0.3216\n",
            "Epoch 34/100\n",
            "13/13 [==============================] - 2s 170ms/step - loss: 0.4114 - accuracy: 0.3613 - val_loss: 0.4654 - val_accuracy: 0.3052\n",
            "Epoch 35/100\n",
            "13/13 [==============================] - 2s 163ms/step - loss: 0.4063 - accuracy: 0.3719 - val_loss: 0.4679 - val_accuracy: 0.2746\n",
            "Epoch 36/100\n",
            "13/13 [==============================] - 2s 180ms/step - loss: 0.3936 - accuracy: 0.3537 - val_loss: 0.4587 - val_accuracy: 0.3052\n",
            "Epoch 37/100\n",
            "13/13 [==============================] - 2s 161ms/step - loss: 0.3887 - accuracy: 0.3900 - val_loss: 0.4631 - val_accuracy: 0.3099\n",
            "Epoch 38/100\n",
            "13/13 [==============================] - 2s 148ms/step - loss: 0.3733 - accuracy: 0.3419 - val_loss: 0.4574 - val_accuracy: 0.2887\n",
            "Epoch 39/100\n",
            "13/13 [==============================] - 2s 174ms/step - loss: 0.3794 - accuracy: 0.3644 - val_loss: 0.4316 - val_accuracy: 0.2723\n",
            "Epoch 40/100\n",
            "13/13 [==============================] - 2s 141ms/step - loss: 0.3797 - accuracy: 0.3444 - val_loss: 0.4351 - val_accuracy: 0.2981\n",
            "Epoch 41/100\n",
            "13/13 [==============================] - 2s 155ms/step - loss: 0.3607 - accuracy: 0.3525 - val_loss: 0.4376 - val_accuracy: 0.3263\n",
            "Epoch 42/100\n",
            "13/13 [==============================] - 3s 207ms/step - loss: 0.3692 - accuracy: 0.3769 - val_loss: 0.4285 - val_accuracy: 0.3099\n",
            "Epoch 43/100\n",
            "13/13 [==============================] - 2s 161ms/step - loss: 0.3576 - accuracy: 0.3656 - val_loss: 0.4204 - val_accuracy: 0.3169\n",
            "Epoch 44/100\n",
            "13/13 [==============================] - 2s 185ms/step - loss: 0.3467 - accuracy: 0.3850 - val_loss: 0.4114 - val_accuracy: 0.2934\n",
            "Epoch 45/100\n",
            "13/13 [==============================] - 2s 146ms/step - loss: 0.3498 - accuracy: 0.3850 - val_loss: 0.4166 - val_accuracy: 0.2840\n",
            "Epoch 46/100\n",
            "13/13 [==============================] - 2s 147ms/step - loss: 0.3406 - accuracy: 0.3750 - val_loss: 0.3881 - val_accuracy: 0.2793\n",
            "Epoch 47/100\n",
            "13/13 [==============================] - 2s 135ms/step - loss: 0.3377 - accuracy: 0.3750 - val_loss: 0.3961 - val_accuracy: 0.2840\n",
            "Epoch 48/100\n",
            "13/13 [==============================] - 2s 134ms/step - loss: 0.3339 - accuracy: 0.3762 - val_loss: 0.4001 - val_accuracy: 0.3333\n",
            "Epoch 49/100\n",
            "13/13 [==============================] - 2s 151ms/step - loss: 0.3370 - accuracy: 0.3544 - val_loss: 0.3933 - val_accuracy: 0.3122\n",
            "Epoch 50/100\n",
            "13/13 [==============================] - 2s 155ms/step - loss: 0.3214 - accuracy: 0.4000 - val_loss: 0.3797 - val_accuracy: 0.3192\n",
            "Epoch 51/100\n",
            "13/13 [==============================] - 2s 169ms/step - loss: 0.3291 - accuracy: 0.3963 - val_loss: 0.3839 - val_accuracy: 0.3122\n",
            "Epoch 52/100\n",
            "13/13 [==============================] - 2s 165ms/step - loss: 0.3177 - accuracy: 0.3775 - val_loss: 0.3706 - val_accuracy: 0.3192\n",
            "Epoch 53/100\n",
            "13/13 [==============================] - 2s 150ms/step - loss: 0.3092 - accuracy: 0.4013 - val_loss: 0.3568 - val_accuracy: 0.3239\n",
            "Epoch 54/100\n",
            "13/13 [==============================] - 2s 152ms/step - loss: 0.3117 - accuracy: 0.4087 - val_loss: 0.3624 - val_accuracy: 0.2864\n",
            "Epoch 55/100\n",
            "13/13 [==============================] - 2s 155ms/step - loss: 0.3076 - accuracy: 0.3744 - val_loss: 0.3718 - val_accuracy: 0.3192\n",
            "Epoch 56/100\n",
            "13/13 [==============================] - 2s 158ms/step - loss: 0.3019 - accuracy: 0.3956 - val_loss: 0.3602 - val_accuracy: 0.3286\n",
            "Epoch 57/100\n",
            "13/13 [==============================] - 2s 175ms/step - loss: 0.3093 - accuracy: 0.3950 - val_loss: 0.3607 - val_accuracy: 0.3146\n",
            "Epoch 58/100\n",
            "13/13 [==============================] - 2s 146ms/step - loss: 0.2935 - accuracy: 0.3994 - val_loss: 0.3437 - val_accuracy: 0.2817\n",
            "Epoch 59/100\n",
            "13/13 [==============================] - 2s 160ms/step - loss: 0.2919 - accuracy: 0.4131 - val_loss: 0.3502 - val_accuracy: 0.2418\n",
            "Epoch 60/100\n",
            "13/13 [==============================] - 2s 146ms/step - loss: 0.2911 - accuracy: 0.3656 - val_loss: 0.3450 - val_accuracy: 0.2629\n",
            "Epoch 61/100\n",
            "13/13 [==============================] - 2s 152ms/step - loss: 0.2824 - accuracy: 0.4019 - val_loss: 0.3350 - val_accuracy: 0.3075\n",
            "Epoch 62/100\n",
            "13/13 [==============================] - 2s 184ms/step - loss: 0.2925 - accuracy: 0.4006 - val_loss: 0.3280 - val_accuracy: 0.3216\n",
            "Epoch 63/100\n",
            "13/13 [==============================] - 2s 155ms/step - loss: 0.2762 - accuracy: 0.4019 - val_loss: 0.3333 - val_accuracy: 0.3310\n",
            "Epoch 64/100\n",
            "13/13 [==============================] - 2s 161ms/step - loss: 0.2763 - accuracy: 0.3925 - val_loss: 0.3296 - val_accuracy: 0.2887\n",
            "Epoch 65/100\n",
            "13/13 [==============================] - 2s 170ms/step - loss: 0.2688 - accuracy: 0.4038 - val_loss: 0.3188 - val_accuracy: 0.3216\n",
            "Epoch 66/100\n",
            "13/13 [==============================] - 2s 164ms/step - loss: 0.2692 - accuracy: 0.3825 - val_loss: 0.3231 - val_accuracy: 0.3216\n",
            "Epoch 67/100\n",
            "13/13 [==============================] - 2s 158ms/step - loss: 0.2735 - accuracy: 0.3950 - val_loss: 0.3284 - val_accuracy: 0.3286\n",
            "Epoch 68/100\n",
            "13/13 [==============================] - 2s 151ms/step - loss: 0.2659 - accuracy: 0.4219 - val_loss: 0.3039 - val_accuracy: 0.2887\n",
            "Epoch 69/100\n",
            "13/13 [==============================] - 2s 146ms/step - loss: 0.2627 - accuracy: 0.3881 - val_loss: 0.2936 - val_accuracy: 0.3052\n",
            "Epoch 70/100\n",
            "13/13 [==============================] - 2s 144ms/step - loss: 0.2704 - accuracy: 0.3944 - val_loss: 0.3141 - val_accuracy: 0.3333\n",
            "Epoch 71/100\n",
            "13/13 [==============================] - 2s 174ms/step - loss: 0.2580 - accuracy: 0.3894 - val_loss: 0.3058 - val_accuracy: 0.3146\n",
            "Epoch 72/100\n",
            "13/13 [==============================] - 2s 159ms/step - loss: 0.2515 - accuracy: 0.4288 - val_loss: 0.2878 - val_accuracy: 0.3357\n",
            "Epoch 73/100\n",
            "13/13 [==============================] - 2s 162ms/step - loss: 0.2713 - accuracy: 0.3762 - val_loss: 0.2991 - val_accuracy: 0.2864\n",
            "Epoch 74/100\n",
            "13/13 [==============================] - 2s 194ms/step - loss: 0.2499 - accuracy: 0.3862 - val_loss: 0.2971 - val_accuracy: 0.3005\n",
            "Epoch 75/100\n",
            "13/13 [==============================] - 2s 177ms/step - loss: 0.2430 - accuracy: 0.4125 - val_loss: 0.2953 - val_accuracy: 0.2817\n",
            "Epoch 76/100\n",
            "13/13 [==============================] - 2s 148ms/step - loss: 0.2406 - accuracy: 0.4156 - val_loss: 0.2805 - val_accuracy: 0.3286\n",
            "Epoch 77/100\n",
            "13/13 [==============================] - 2s 150ms/step - loss: 0.2380 - accuracy: 0.4181 - val_loss: 0.2816 - val_accuracy: 0.3239\n",
            "Epoch 78/100\n",
            "13/13 [==============================] - 2s 135ms/step - loss: 0.2418 - accuracy: 0.4050 - val_loss: 0.2828 - val_accuracy: 0.3498\n",
            "Epoch 79/100\n",
            "13/13 [==============================] - 2s 157ms/step - loss: 0.2421 - accuracy: 0.4112 - val_loss: 0.2722 - val_accuracy: 0.3685\n",
            "Epoch 80/100\n",
            "13/13 [==============================] - 2s 165ms/step - loss: 0.2341 - accuracy: 0.4131 - val_loss: 0.2567 - val_accuracy: 0.2887\n",
            "Epoch 81/100\n",
            "13/13 [==============================] - 2s 133ms/step - loss: 0.2324 - accuracy: 0.4100 - val_loss: 0.2524 - val_accuracy: 0.3169\n",
            "Epoch 82/100\n",
            "13/13 [==============================] - 2s 135ms/step - loss: 0.2264 - accuracy: 0.4019 - val_loss: 0.2612 - val_accuracy: 0.3146\n",
            "Epoch 83/100\n",
            "13/13 [==============================] - 2s 146ms/step - loss: 0.2239 - accuracy: 0.4112 - val_loss: 0.2524 - val_accuracy: 0.2887\n",
            "Epoch 84/100\n",
            "13/13 [==============================] - 2s 166ms/step - loss: 0.2299 - accuracy: 0.4075 - val_loss: 0.2533 - val_accuracy: 0.2676\n",
            "Epoch 85/100\n",
            "13/13 [==============================] - 2s 146ms/step - loss: 0.2326 - accuracy: 0.3844 - val_loss: 0.2521 - val_accuracy: 0.2347\n",
            "Epoch 86/100\n",
            "13/13 [==============================] - 2s 158ms/step - loss: 0.2246 - accuracy: 0.4000 - val_loss: 0.2476 - val_accuracy: 0.3028\n",
            "Epoch 87/100\n",
            "13/13 [==============================] - 2s 159ms/step - loss: 0.2147 - accuracy: 0.4250 - val_loss: 0.2426 - val_accuracy: 0.3897\n",
            "Epoch 88/100\n",
            "13/13 [==============================] - 2s 171ms/step - loss: 0.2197 - accuracy: 0.4056 - val_loss: 0.2409 - val_accuracy: 0.2793\n",
            "Epoch 89/100\n",
            "13/13 [==============================] - 2s 161ms/step - loss: 0.2066 - accuracy: 0.3887 - val_loss: 0.2488 - val_accuracy: 0.2887\n",
            "Epoch 90/100\n",
            "13/13 [==============================] - 2s 152ms/step - loss: 0.2116 - accuracy: 0.3950 - val_loss: 0.2356 - val_accuracy: 0.2958\n",
            "Epoch 91/100\n",
            "13/13 [==============================] - 2s 145ms/step - loss: 0.2061 - accuracy: 0.4238 - val_loss: 0.2224 - val_accuracy: 0.3169\n",
            "Epoch 92/100\n",
            "13/13 [==============================] - 2s 160ms/step - loss: 0.2152 - accuracy: 0.3975 - val_loss: 0.2246 - val_accuracy: 0.3263\n",
            "Epoch 93/100\n",
            "13/13 [==============================] - 2s 137ms/step - loss: 0.2051 - accuracy: 0.4238 - val_loss: 0.2141 - val_accuracy: 0.3216\n",
            "Epoch 94/100\n",
            "13/13 [==============================] - 2s 163ms/step - loss: 0.2072 - accuracy: 0.4050 - val_loss: 0.2155 - val_accuracy: 0.3615\n",
            "Epoch 95/100\n",
            "13/13 [==============================] - 2s 141ms/step - loss: 0.1969 - accuracy: 0.4469 - val_loss: 0.2269 - val_accuracy: 0.3615\n",
            "Epoch 96/100\n",
            "13/13 [==============================] - 2s 162ms/step - loss: 0.1982 - accuracy: 0.4169 - val_loss: 0.2126 - val_accuracy: 0.3850\n",
            "Epoch 97/100\n",
            "13/13 [==============================] - 2s 149ms/step - loss: 0.2037 - accuracy: 0.4150 - val_loss: 0.2237 - val_accuracy: 0.3310\n",
            "Epoch 98/100\n",
            "13/13 [==============================] - 2s 137ms/step - loss: 0.2036 - accuracy: 0.4131 - val_loss: 0.2224 - val_accuracy: 0.3052\n",
            "Epoch 99/100\n",
            "13/13 [==============================] - 2s 147ms/step - loss: 0.1992 - accuracy: 0.3988 - val_loss: 0.2178 - val_accuracy: 0.3474\n",
            "Epoch 100/100\n",
            "13/13 [==============================] - 2s 151ms/step - loss: 0.1917 - accuracy: 0.4338 - val_loss: 0.2095 - val_accuracy: 0.3873\n"
          ]
        }
      ],
      "source": [
        "history = model.fit(train_dataset, epochs=100, validation_data=test_dataset, callbacks=[model_checkpoint_callback])"
      ]
    },
    {
      "cell_type": "code",
      "execution_count": 58,
      "metadata": {},
      "outputs": [
        {
          "name": "stdout",
          "output_type": "stream",
          "text": [
            "4/4 [==============================] - 1s 24ms/step - loss: 0.2095 - accuracy: 0.3873\n"
          ]
        },
        {
          "data": {
            "text/plain": [
              "[0.20947317779064178, 0.38732394576072693]"
            ]
          },
          "execution_count": 58,
          "metadata": {},
          "output_type": "execute_result"
        }
      ],
      "source": [
        "model.evaluate(test_dataset)"
      ]
    },
    {
      "cell_type": "code",
      "execution_count": 59,
      "metadata": {
        "colab": {
          "base_uri": "https://localhost:8080/"
        },
        "id": "bLEhpsco79gj",
        "outputId": "70197a24-12c1-4ef0-a4f7-8c38976fb506"
      },
      "outputs": [
        {
          "name": "stdout",
          "output_type": "stream",
          "text": [
            "4/4 [==============================] - 1s 20ms/step\n"
          ]
        },
        {
          "data": {
            "text/plain": [
              "(False, False, True, False)"
            ]
          },
          "execution_count": 59,
          "metadata": {},
          "output_type": "execute_result"
        }
      ],
      "source": [
        "predictions = (model.predict(test_dataset) < 0.5)[0]\n",
        "tuple(predictions)"
      ]
    },
    {
      "cell_type": "code",
      "execution_count": 60,
      "metadata": {},
      "outputs": [],
      "source": [
        "# save the model\n",
        "model.save('wall_recognizer.keras')"
      ]
    },
    {
      "cell_type": "markdown",
      "metadata": {
        "id": "w1LgB-CM-6rB"
      },
      "source": []
    }
  ],
  "metadata": {
    "colab": {
      "provenance": []
    },
    "kernelspec": {
      "display_name": "Python 3",
      "name": "python3"
    },
    "language_info": {
      "codemirror_mode": {
        "name": "ipython",
        "version": 3
      },
      "file_extension": ".py",
      "mimetype": "text/x-python",
      "name": "python",
      "nbconvert_exporter": "python",
      "pygments_lexer": "ipython3",
      "version": "3.11.7"
    }
  },
  "nbformat": 4,
  "nbformat_minor": 0
}
