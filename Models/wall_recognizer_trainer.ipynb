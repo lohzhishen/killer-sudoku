{
  "nbformat": 4,
  "nbformat_minor": 0,
  "metadata": {
    "colab": {
      "provenance": []
    },
    "kernelspec": {
      "name": "python3",
      "display_name": "Python 3"
    },
    "language_info": {
      "name": "python"
    }
  },
  "cells": [
    {
      "cell_type": "code",
      "execution_count": null,
      "metadata": {
        "id": "3l_-8tvxz23_"
      },
      "outputs": [],
      "source": [
        "import matplotlib.pyplot as plt\n",
        "from tensorflow import keras\n",
        "import tensorflow as tf\n",
        "import numpy as np\n",
        "import pathlib\n",
        "import os\n",
        "\n",
        "MODEL = pathlib.Path('Models', 'wall_recognizer.keras')\n",
        "LABELLED = pathlib.Path('Models', 'Dataset', 'Wall Recognizer', 'Labelled')"
      ]
    },
    {
      "cell_type": "code",
      "source": [
        "!unzip Models.zip -d ."
      ],
      "metadata": {
        "id": "doh8zQ14z82X"
      },
      "execution_count": null,
      "outputs": []
    },
    {
      "cell_type": "code",
      "source": [
        "BUFFER = 128\n",
        "\n",
        "file_paths = tf.data.Dataset.list_files(str(LABELLED/'*.png'), shuffle=False).shuffle(BUFFER, reshuffle_each_iteration=False)"
      ],
      "metadata": {
        "id": "2wiR-Oaw0p-o"
      },
      "execution_count": null,
      "outputs": []
    },
    {
      "cell_type": "code",
      "source": [
        "def parse_images(file_path):\n",
        "    # extract label\n",
        "    label = tf.strings.split(file_path, os.path.sep)[-1]\n",
        "    label = tf.strings.split(label, '_')[:-1]\n",
        "    label = tf.strings.to_number(label, tf.int32)\n",
        "\n",
        "    # load image\n",
        "    image = tf.io.read_file(file_path)\n",
        "    image = tf.io.decode_png(image, channels=1)\n",
        "    image = tf.image.resize(image, [28, 28])\n",
        "    image = tf.cast(image, tf.float32) / 255\n",
        "    return image, label\n",
        "\n",
        "dataset = file_paths.map(parse_images)"
      ],
      "metadata": {
        "id": "kotssfuh1XDo"
      },
      "execution_count": null,
      "outputs": []
    },
    {
      "cell_type": "code",
      "source": [
        "train_size = 366\n",
        "\n",
        "train_dataset = dataset.take(train_size)\n",
        "test_dataset = dataset.skip(train_size)"
      ],
      "metadata": {
        "id": "L5ENpKce4qX1"
      },
      "execution_count": null,
      "outputs": []
    },
    {
      "cell_type": "code",
      "source": [
        "image = iter(train_dataset).__next__()\n",
        "print(image[0].shape)"
      ],
      "metadata": {
        "colab": {
          "base_uri": "https://localhost:8080/"
        },
        "id": "olRCDr1q6BLo",
        "outputId": "d92f2051-0c73-4110-c7c0-fdf49a662132"
      },
      "execution_count": null,
      "outputs": [
        {
          "output_type": "stream",
          "name": "stdout",
          "text": [
            "(28, 28, 1)\n"
          ]
        }
      ]
    },
    {
      "cell_type": "code",
      "source": [
        "plt.figure(figsize=(15, 5))\n",
        "for i, (image, label) in zip(range(3), iter(train_dataset)):\n",
        "    label = label.numpy().astype(np.uint8).tolist()\n",
        "\n",
        "    plt.subplot(1, 3, i + 1)\n",
        "    plt.imshow(image, cmap='gray')\n",
        "    plt.xticks([])\n",
        "    plt.yticks([])\n",
        "    plt.title('_'.join([str(x) for x in label]))\n",
        "plt.show()"
      ],
      "metadata": {
        "colab": {
          "base_uri": "https://localhost:8080/",
          "height": 378
        },
        "id": "bQnrU_yf5HlG",
        "outputId": "637f837d-e285-422f-99d1-3c477d05db56"
      },
      "execution_count": null,
      "outputs": [
        {
          "output_type": "display_data",
          "data": {
            "text/plain": [
              "<Figure size 1500x500 with 3 Axes>"
            ],
            "image/png": "[encoded data removed]"
          },
          "metadata": {}
        }
      ]
    },
    {
      "cell_type": "code",
      "source": [
        "train_dataset = train_dataset.batch(64)\n",
        "test_dataset = test_dataset.batch(64)"
      ],
      "metadata": {
        "id": "djm8qV5h8iBW"
      },
      "execution_count": null,
      "outputs": []
    },
    {
      "cell_type": "code",
      "source": [
        "def get_model():\n",
        "    model = keras.Sequential()\n",
        "\n",
        "    # input layer\n",
        "    model.add(keras.layers.InputLayer(input_shape=(28, 28, 1)))\n",
        "\n",
        "    # first convolution layer\n",
        "    model.add(keras.layers.Conv2D(32, (5, 5), padding='same', kernel_initializer='he_uniform'))\n",
        "    model.add(keras.layers.ReLU())\n",
        "    model.add(keras.layers.MaxPooling2D(pool_size=(2, 2)))\n",
        "\n",
        "    # second convolution layer\n",
        "    model.add(keras.layers.Conv2D(32, (3, 3), padding='same', kernel_initializer='he_uniform'))\n",
        "    model.add(keras.layers.ReLU())\n",
        "    model.add(keras.layers.MaxPooling2D(pool_size=(2, 2)))\n",
        "\n",
        "    # transition to fully connected layers\n",
        "    model.add(keras.layers.Flatten())\n",
        "\n",
        "    # first dense layer\n",
        "    model.add(keras.layers.Dense(64, kernel_initializer='he_uniform'))\n",
        "    model.add(keras.layers.ReLU())\n",
        "    model.add(keras.layers.Dropout(0.5))\n",
        "\n",
        "    # second dense layer\n",
        "    model.add(keras.layers.Dense(64, kernel_initializer='he_uniform'))\n",
        "    model.add(keras.layers.ReLU())\n",
        "    model.add(keras.layers.Dropout(0.5))\n",
        "\n",
        "    # output layer\n",
        "    model.add(keras.layers.Dense(4, kernel_initializer='he_uniform', activation='sigmoid'))\n",
        "    return model"
      ],
      "metadata": {
        "id": "EbPuuM0k0PlU"
      },
      "execution_count": null,
      "outputs": []
    },
    {
      "cell_type": "code",
      "source": [
        "# create a model\n",
        "model = get_model()\n",
        "print(model.summary())\n",
        "model.compile(\n",
        "    optimizer=keras.optimizers.Adam(learning_rate=1e-5),\n",
        "    loss=keras.losses.BinaryCrossentropy(from_logits=False),\n",
        "    metrics='accuracy'\n",
        ")"
      ],
      "metadata": {
        "id": "BBHzhF3W0pQB"
      },
      "execution_count": null,
      "outputs": []
    },
    {
      "cell_type": "code",
      "source": [
        "model.fit(train_dataset, epochs=100, validation_data=test_dataset)"
      ],
      "metadata": {
        "id": "czZby5tq5kYH"
      },
      "execution_count": null,
      "outputs": []
    },
    {
      "cell_type": "code",
      "source": [
        "model.predict(test_dataset)"
      ],
      "metadata": {
        "colab": {
          "base_uri": "https://localhost:8080/"
        },
        "id": "bLEhpsco79gj",
        "outputId": "70197a24-12c1-4ef0-a4f7-8c38976fb506"
      },
      "execution_count": null,
      "outputs": [
        {
          "output_type": "stream",
          "name": "stdout",
          "text": [
            "1/1 [==============================] - 1s 726ms/step\n"
          ]
        },
        {
          "output_type": "execute_result",
          "data": {
            "text/plain": [
              "array([[0.41157407, 0.5954315 , 0.5519789 , 0.41188297],\n",
              "       [0.3316102 , 0.60245043, 0.4899837 , 0.33075476],\n",
              "       [0.40121895, 0.6727865 , 0.5365453 , 0.45246422],\n",
              "       [0.43339393, 0.63405293, 0.45812422, 0.44463336],\n",
              "       [0.43232623, 0.6402574 , 0.42041963, 0.49403706],\n",
              "       [0.48219615, 0.5483374 , 0.5144674 , 0.42101642],\n",
              "       [0.47007573, 0.6371489 , 0.49973494, 0.415162  ],\n",
              "       [0.4453054 , 0.7203568 , 0.5377953 , 0.36865112],\n",
              "       [0.47074446, 0.61136055, 0.47736937, 0.46735883],\n",
              "       [0.5076349 , 0.65001476, 0.43408036, 0.3849525 ],\n",
              "       [0.38052103, 0.5801978 , 0.52076167, 0.45809236],\n",
              "       [0.3978469 , 0.5959806 , 0.5303903 , 0.4393836 ],\n",
              "       [0.4104218 , 0.64909637, 0.4980577 , 0.51226544],\n",
              "       [0.39467072, 0.6261759 , 0.4177883 , 0.5768664 ],\n",
              "       [0.38814965, 0.54355925, 0.5426687 , 0.37865573],\n",
              "       [0.3741946 , 0.6131718 , 0.55639327, 0.39251438],\n",
              "       [0.31293008, 0.49719474, 0.61615115, 0.28110167],\n",
              "       [0.4679726 , 0.5938965 , 0.5055583 , 0.43256375],\n",
              "       [0.41106963, 0.53791046, 0.5467905 , 0.38728967],\n",
              "       [0.34370103, 0.60424507, 0.56729954, 0.37496892],\n",
              "       [0.41971642, 0.6519446 , 0.4961724 , 0.4122406 ],\n",
              "       [0.47943524, 0.5490183 , 0.5225829 , 0.3328021 ],\n",
              "       [0.43769124, 0.6204864 , 0.5241904 , 0.4021472 ],\n",
              "       [0.43407097, 0.5261846 , 0.49296564, 0.40818188],\n",
              "       [0.3968822 , 0.6693376 , 0.5182669 , 0.40237364],\n",
              "       [0.42378253, 0.53846806, 0.5116558 , 0.46265388],\n",
              "       [0.4629496 , 0.6027871 , 0.52838796, 0.4170972 ],\n",
              "       [0.3986282 , 0.5715487 , 0.51799715, 0.36753836],\n",
              "       [0.3144768 , 0.6013052 , 0.46337914, 0.5013234 ],\n",
              "       [0.40531245, 0.51465136, 0.5809135 , 0.37405086],\n",
              "       [0.33936864, 0.5279938 , 0.5078195 , 0.4997059 ],\n",
              "       [0.34668323, 0.5209483 , 0.5744188 , 0.26359323],\n",
              "       [0.3963057 , 0.61769855, 0.5512812 , 0.3696367 ],\n",
              "       [0.44823116, 0.6079337 , 0.48861614, 0.44194144],\n",
              "       [0.38094592, 0.53469515, 0.52936894, 0.48075038],\n",
              "       [0.4209551 , 0.5660172 , 0.59873897, 0.3100281 ],\n",
              "       [0.4263944 , 0.5649776 , 0.46915773, 0.48426557],\n",
              "       [0.38390854, 0.61496836, 0.544297  , 0.44787464],\n",
              "       [0.43515676, 0.66680866, 0.4846426 , 0.4412655 ],\n",
              "       [0.40555632, 0.6014748 , 0.5150963 , 0.32837415]], dtype=float32)"
            ]
          },
          "metadata": {},
          "execution_count": 89
        }
      ]
    },
    {
      "cell_type": "code",
      "source": [],
      "metadata": {
        "id": "w1LgB-CM-6rB"
      },
      "execution_count": null,
      "outputs": []
    }
  ]
}