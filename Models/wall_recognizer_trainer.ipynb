{
  "cells": [
    {
      "cell_type": "code",
      "execution_count": 1,
      "metadata": {
        "id": "3l_-8tvxz23_"
      },
      "outputs": [
        {
          "name": "stdout",
          "output_type": "stream",
          "text": [
            "WARNING:tensorflow:From c:\\Users\\lohzh\\Desktop\\Killer sudoku\\killer-sudoku\\.venv\\Lib\\site-packages\\keras\\src\\losses.py:2976: The name tf.losses.sparse_softmax_cross_entropy is deprecated. Please use tf.compat.v1.losses.sparse_softmax_cross_entropy instead.\n",
            "\n"
          ]
        }
      ],
      "source": [
        "import matplotlib.pyplot as plt\n",
        "from tensorflow import keras\n",
        "import tensorflow as tf\n",
        "import numpy as np\n",
        "import pathlib\n",
        "import os\n",
        "\n",
        "MODEL = pathlib.Path('wall_recognizer.keras')\n",
        "LABELLED = pathlib.Path('Dataset', 'Wall Recognizer', 'Labelled')"
      ]
    },
    {
      "cell_type": "code",
      "execution_count": 2,
      "metadata": {
        "id": "2wiR-Oaw0p-o"
      },
      "outputs": [],
      "source": [
        "BUFFER = 128\n",
        "\n",
        "file_paths = tf.data.Dataset.list_files(str(LABELLED/'*.png'), shuffle=False).shuffle(BUFFER, reshuffle_each_iteration=False)"
      ]
    },
    {
      "cell_type": "code",
      "execution_count": 3,
      "metadata": {
        "id": "kotssfuh1XDo"
      },
      "outputs": [],
      "source": [
        "def parse_images(file_path):\n",
        "    # extract label\n",
        "    label = tf.strings.split(file_path, os.path.sep)[-1]\n",
        "    label = tf.strings.split(label, '_')[:-1]\n",
        "    label = tf.strings.to_number(label, tf.int32)\n",
        "\n",
        "    # load image\n",
        "    image = tf.io.read_file(file_path)\n",
        "    image = tf.io.decode_png(image, channels=1)\n",
        "    image = tf.image.resize(image, [28, 28])\n",
        "    image = tf.cast(image, tf.float32) / 255\n",
        "    return image, label\n",
        "\n",
        "dataset = file_paths.map(parse_images)"
      ]
    },
    {
      "cell_type": "code",
      "execution_count": 4,
      "metadata": {
        "id": "L5ENpKce4qX1"
      },
      "outputs": [],
      "source": [
        "train_size = 800\n",
        "\n",
        "train_dataset = dataset.take(train_size)\n",
        "test_dataset = dataset.skip(train_size)"
      ]
    },
    {
      "cell_type": "code",
      "execution_count": 5,
      "metadata": {
        "colab": {
          "base_uri": "https://localhost:8080/"
        },
        "id": "olRCDr1q6BLo",
        "outputId": "d92f2051-0c73-4110-c7c0-fdf49a662132"
      },
      "outputs": [
        {
          "name": "stdout",
          "output_type": "stream",
          "text": [
            "(28, 28, 1)\n"
          ]
        }
      ],
      "source": [
        "image = iter(train_dataset).__next__()\n",
        "print(image[0].shape)"
      ]
    },
    {
      "cell_type": "code",
      "execution_count": 6,
      "metadata": {
        "colab": {
          "base_uri": "https://localhost:8080/",
          "height": 378
        },
        "id": "bQnrU_yf5HlG",
        "outputId": "637f837d-e285-422f-99d1-3c477d05db56"
      },
      "outputs": [
        {
          "data": {
            "image/png": "[encoded data removed]",
            "text/plain": [
              "<Figure size 1500x500 with 3 Axes>"
            ]
          },
          "metadata": {},
          "output_type": "display_data"
        }
      ],
      "source": [
        "plt.figure(figsize=(15, 5))\n",
        "for i, (image, label) in zip(range(3), iter(train_dataset)):\n",
        "    label = label.numpy().astype(np.uint8).tolist()\n",
        "\n",
        "    plt.subplot(1, 3, i + 1)\n",
        "    plt.imshow(image, cmap='gray')\n",
        "    plt.xticks([])\n",
        "    plt.yticks([])\n",
        "    plt.title('_'.join([str(x) for x in label]))\n",
        "plt.show()"
      ]
    },
    {
      "cell_type": "code",
      "execution_count": 7,
      "metadata": {
        "id": "djm8qV5h8iBW"
      },
      "outputs": [],
      "source": [
        "train_dataset = train_dataset.batch(1)\n",
        "test_dataset = test_dataset.batch(1)"
      ]
    },
    {
      "cell_type": "code",
      "execution_count": 8,
      "metadata": {
        "id": "EbPuuM0k0PlU"
      },
      "outputs": [],
      "source": [
        "def get_model():\n",
        "    model = keras.Sequential()\n",
        "\n",
        "    # input layer\n",
        "    model.add(keras.layers.InputLayer(input_shape=(28, 28, 1)))\n",
        "\n",
        "    # first convolution layer\n",
        "    model.add(keras.layers.Conv2D(32, (5, 5), padding='same', kernel_initializer='he_uniform'))\n",
        "    model.add(keras.layers.ReLU())\n",
        "    model.add(keras.layers.MaxPooling2D(pool_size=(2, 2)))\n",
        "\n",
        "    # second convolution layer\n",
        "    model.add(keras.layers.Conv2D(32, (3, 3), padding='same', kernel_initializer='he_uniform'))\n",
        "    model.add(keras.layers.ReLU())\n",
        "    model.add(keras.layers.MaxPooling2D(pool_size=(2, 2)))\n",
        "\n",
        "    # transition to fully connected layers\n",
        "    model.add(keras.layers.Flatten())\n",
        "\n",
        "    # first dense layer\n",
        "    model.add(keras.layers.Dense(64, kernel_initializer='he_uniform'))\n",
        "    model.add(keras.layers.ReLU())\n",
        "    model.add(keras.layers.Dropout(0.5))\n",
        "\n",
        "    # second dense layer\n",
        "    model.add(keras.layers.Dense(64, kernel_initializer='he_uniform'))\n",
        "    model.add(keras.layers.ReLU())\n",
        "    model.add(keras.layers.Dropout(0.5))\n",
        "\n",
        "    # output layer\n",
        "    model.add(keras.layers.Dense(4, kernel_initializer='he_uniform', activation='sigmoid'))\n",
        "    return model"
      ]
    },
    {
      "cell_type": "code",
      "execution_count": 9,
      "metadata": {
        "id": "BBHzhF3W0pQB"
      },
      "outputs": [
        {
          "name": "stdout",
          "output_type": "stream",
          "text": [
            "WARNING:tensorflow:From c:\\Users\\lohzh\\Desktop\\Killer sudoku\\killer-sudoku\\.venv\\Lib\\site-packages\\keras\\src\\backend.py:873: The name tf.get_default_graph is deprecated. Please use tf.compat.v1.get_default_graph instead.\n",
            "\n",
            "WARNING:tensorflow:From c:\\Users\\lohzh\\Desktop\\Killer sudoku\\killer-sudoku\\.venv\\Lib\\site-packages\\keras\\src\\layers\\pooling\\max_pooling2d.py:161: The name tf.nn.max_pool is deprecated. Please use tf.nn.max_pool2d instead.\n",
            "\n",
            "Model: \"sequential\"\n",
            "_________________________________________________________________\n",
            " Layer (type)                Output Shape              Param #   \n",
            "=================================================================\n",
            " conv2d (Conv2D)             (None, 28, 28, 32)        832       \n",
            "                                                                 \n",
            " re_lu (ReLU)                (None, 28, 28, 32)        0         \n",
            "                                                                 \n",
            " max_pooling2d (MaxPooling2  (None, 14, 14, 32)        0         \n",
            " D)                                                              \n",
            "                                                                 \n",
            " conv2d_1 (Conv2D)           (None, 14, 14, 32)        9248      \n",
            "                                                                 \n",
            " re_lu_1 (ReLU)              (None, 14, 14, 32)        0         \n",
            "                                                                 \n",
            " max_pooling2d_1 (MaxPoolin  (None, 7, 7, 32)          0         \n",
            " g2D)                                                            \n",
            "                                                                 \n",
            " flatten (Flatten)           (None, 1568)              0         \n",
            "                                                                 \n",
            " dense (Dense)               (None, 64)                100416    \n",
            "                                                                 \n",
            " re_lu_2 (ReLU)              (None, 64)                0         \n",
            "                                                                 \n",
            " dropout (Dropout)           (None, 64)                0         \n",
            "                                                                 \n",
            " dense_1 (Dense)             (None, 64)                4160      \n",
            "                                                                 \n",
            " re_lu_3 (ReLU)              (None, 64)                0         \n",
            "                                                                 \n",
            " dropout_1 (Dropout)         (None, 64)                0         \n",
            "                                                                 \n",
            " dense_2 (Dense)             (None, 4)                 260       \n",
            "                                                                 \n",
            "=================================================================\n",
            "Total params: 114916 (448.89 KB)\n",
            "Trainable params: 114916 (448.89 KB)\n",
            "Non-trainable params: 0 (0.00 Byte)\n",
            "_________________________________________________________________\n",
            "None\n"
          ]
        }
      ],
      "source": [
        "# create a model\n",
        "model = get_model()\n",
        "print(model.summary())\n",
        "model.compile(\n",
        "    optimizer=keras.optimizers.Adam(learning_rate=3e-4),\n",
        "    loss=keras.losses.BinaryCrossentropy(from_logits=False),\n",
        "    metrics='accuracy'\n",
        ")"
      ]
    },
    {
      "cell_type": "code",
      "execution_count": 10,
      "metadata": {},
      "outputs": [],
      "source": [
        "for file in os.listdir('Checkpoints'):\n",
        "    os.remove(f'Checkpoints/{file}')"
      ]
    },
    {
      "cell_type": "code",
      "execution_count": 11,
      "metadata": {},
      "outputs": [],
      "source": [
        "model_checkpoint_callback = tf.keras.callbacks.ModelCheckpoint(\n",
        "    filepath='Checkpoints/{epoch:02d}-{val_loss:.2f}.hdf5',\n",
        "    save_weights_only=False,\n",
        "    monitor='val_accuracy',\n",
        "    mode='max',\n",
        "    save_best_only=True\n",
        ")"
      ]
    },
    {
      "cell_type": "code",
      "execution_count": 12,
      "metadata": {
        "id": "czZby5tq5kYH"
      },
      "outputs": [
        {
          "name": "stdout",
          "output_type": "stream",
          "text": [
            "Epoch 1/100\n",
            "WARNING:tensorflow:From c:\\Users\\lohzh\\Desktop\\Killer sudoku\\killer-sudoku\\.venv\\Lib\\site-packages\\keras\\src\\utils\\tf_utils.py:492: The name tf.ragged.RaggedTensorValue is deprecated. Please use tf.compat.v1.ragged.RaggedTensorValue instead.\n",
            "\n",
            "WARNING:tensorflow:From c:\\Users\\lohzh\\Desktop\\Killer sudoku\\killer-sudoku\\.venv\\Lib\\site-packages\\keras\\src\\engine\\base_layer_utils.py:384: The name tf.executing_eagerly_outside_functions is deprecated. Please use tf.compat.v1.executing_eagerly_outside_functions instead.\n",
            "\n",
            "800/800 [==============================] - 4s 4ms/step - loss: 0.5340 - accuracy: 0.2650 - val_loss: 0.3739 - val_accuracy: 0.9803\n",
            "Epoch 2/100\n",
            " 33/800 [>.............................] - ETA: 2s - loss: 0.7282 - accuracy: 0.2424  "
          ]
        },
        {
          "name": "stderr",
          "output_type": "stream",
          "text": [
            "c:\\Users\\lohzh\\Desktop\\Killer sudoku\\killer-sudoku\\.venv\\Lib\\site-packages\\keras\\src\\engine\\training.py:3103: UserWarning: You are saving your model as an HDF5 file via `model.save()`. This file format is considered legacy. We recommend using instead the native Keras format, e.g. `model.save('my_model.keras')`.\n",
            "  saving_api.save_model(\n"
          ]
        },
        {
          "name": "stdout",
          "output_type": "stream",
          "text": [
            "800/800 [==============================] - 3s 3ms/step - loss: 0.4115 - accuracy: 0.3425 - val_loss: 0.2005 - val_accuracy: 0.9567\n",
            "Epoch 3/100\n",
            "800/800 [==============================] - 3s 3ms/step - loss: 0.3324 - accuracy: 0.3125 - val_loss: 0.1830 - val_accuracy: 0.8701\n",
            "Epoch 4/100\n",
            "800/800 [==============================] - 3s 4ms/step - loss: 0.2585 - accuracy: 0.3738 - val_loss: 0.1884 - val_accuracy: 0.7717\n",
            "Epoch 5/100\n",
            "800/800 [==============================] - 3s 3ms/step - loss: 0.2247 - accuracy: 0.3700 - val_loss: 0.1551 - val_accuracy: 0.8346\n",
            "Epoch 6/100\n",
            "800/800 [==============================] - 3s 3ms/step - loss: 0.1799 - accuracy: 0.3600 - val_loss: 0.1642 - val_accuracy: 0.5394\n",
            "Epoch 7/100\n",
            "800/800 [==============================] - 3s 4ms/step - loss: 0.1670 - accuracy: 0.3850 - val_loss: 0.1522 - val_accuracy: 0.5669\n",
            "Epoch 8/100\n",
            "800/800 [==============================] - 4s 6ms/step - loss: 0.1567 - accuracy: 0.3700 - val_loss: 0.1081 - val_accuracy: 0.2913\n",
            "Epoch 9/100\n",
            "800/800 [==============================] - 4s 4ms/step - loss: 0.1450 - accuracy: 0.4225 - val_loss: 0.1481 - val_accuracy: 0.7283\n",
            "Epoch 10/100\n",
            "800/800 [==============================] - 3s 3ms/step - loss: 0.1387 - accuracy: 0.4588 - val_loss: 0.1512 - val_accuracy: 0.4370\n",
            "Epoch 11/100\n",
            "800/800 [==============================] - 3s 3ms/step - loss: 0.1420 - accuracy: 0.4087 - val_loss: 0.1420 - val_accuracy: 0.6929\n",
            "Epoch 12/100\n",
            "800/800 [==============================] - 3s 4ms/step - loss: 0.1338 - accuracy: 0.4050 - val_loss: 0.1231 - val_accuracy: 0.5118\n",
            "Epoch 13/100\n",
            "800/800 [==============================] - 3s 3ms/step - loss: 0.1219 - accuracy: 0.3350 - val_loss: 0.1387 - val_accuracy: 0.3780\n",
            "Epoch 14/100\n",
            "800/800 [==============================] - 3s 4ms/step - loss: 0.1176 - accuracy: 0.4300 - val_loss: 0.1286 - val_accuracy: 0.4606\n",
            "Epoch 15/100\n",
            "800/800 [==============================] - 3s 4ms/step - loss: 0.1121 - accuracy: 0.4137 - val_loss: 0.1054 - val_accuracy: 0.6654\n",
            "Epoch 16/100\n",
            "800/800 [==============================] - 3s 4ms/step - loss: 0.0896 - accuracy: 0.4375 - val_loss: 0.1240 - val_accuracy: 0.8543\n",
            "Epoch 17/100\n",
            "800/800 [==============================] - 3s 4ms/step - loss: 0.0907 - accuracy: 0.3862 - val_loss: 0.1210 - val_accuracy: 0.3543\n",
            "Epoch 18/100\n",
            "800/800 [==============================] - 3s 4ms/step - loss: 0.0831 - accuracy: 0.3925 - val_loss: 0.1091 - val_accuracy: 0.5276\n",
            "Epoch 19/100\n",
            "800/800 [==============================] - 3s 4ms/step - loss: 0.0837 - accuracy: 0.4050 - val_loss: 0.1303 - val_accuracy: 0.5394\n",
            "Epoch 20/100\n",
            "800/800 [==============================] - 3s 4ms/step - loss: 0.0726 - accuracy: 0.4212 - val_loss: 0.1615 - val_accuracy: 0.4803\n",
            "Epoch 21/100\n",
            "800/800 [==============================] - 3s 4ms/step - loss: 0.0696 - accuracy: 0.3887 - val_loss: 0.1485 - val_accuracy: 0.6142\n",
            "Epoch 22/100\n",
            "800/800 [==============================] - 3s 4ms/step - loss: 0.0717 - accuracy: 0.4212 - val_loss: 0.1340 - val_accuracy: 0.7441\n",
            "Epoch 23/100\n",
            "800/800 [==============================] - 3s 4ms/step - loss: 0.0752 - accuracy: 0.4087 - val_loss: 0.1102 - val_accuracy: 0.7677\n",
            "Epoch 24/100\n",
            "800/800 [==============================] - 3s 4ms/step - loss: 0.0755 - accuracy: 0.3900 - val_loss: 0.1229 - val_accuracy: 0.5787\n",
            "Epoch 25/100\n",
            "800/800 [==============================] - 3s 4ms/step - loss: 0.0706 - accuracy: 0.4238 - val_loss: 0.1041 - val_accuracy: 0.2874\n",
            "Epoch 26/100\n",
            "800/800 [==============================] - 3s 4ms/step - loss: 0.0744 - accuracy: 0.3875 - val_loss: 0.1301 - val_accuracy: 0.2992\n",
            "Epoch 27/100\n",
            "800/800 [==============================] - 3s 4ms/step - loss: 0.0614 - accuracy: 0.4112 - val_loss: 0.1535 - val_accuracy: 0.4016\n",
            "Epoch 28/100\n",
            "800/800 [==============================] - 3s 4ms/step - loss: 0.0596 - accuracy: 0.3837 - val_loss: 0.1206 - val_accuracy: 0.6339\n",
            "Epoch 29/100\n",
            "800/800 [==============================] - 3s 4ms/step - loss: 0.0506 - accuracy: 0.4150 - val_loss: 0.1418 - val_accuracy: 0.2283\n",
            "Epoch 30/100\n",
            "800/800 [==============================] - 3s 4ms/step - loss: 0.0564 - accuracy: 0.4338 - val_loss: 0.1383 - val_accuracy: 0.2677\n",
            "Epoch 31/100\n",
            "800/800 [==============================] - 3s 4ms/step - loss: 0.0719 - accuracy: 0.4387 - val_loss: 0.1295 - val_accuracy: 0.4016\n",
            "Epoch 32/100\n",
            "800/800 [==============================] - 3s 4ms/step - loss: 0.0654 - accuracy: 0.3913 - val_loss: 0.1101 - val_accuracy: 0.3031\n",
            "Epoch 33/100\n",
            "800/800 [==============================] - 4s 5ms/step - loss: 0.0504 - accuracy: 0.4338 - val_loss: 0.1430 - val_accuracy: 0.5866\n",
            "Epoch 34/100\n",
            "800/800 [==============================] - 5s 6ms/step - loss: 0.0553 - accuracy: 0.4512 - val_loss: 0.1060 - val_accuracy: 0.5394\n",
            "Epoch 35/100\n",
            "800/800 [==============================] - 5s 6ms/step - loss: 0.0542 - accuracy: 0.3875 - val_loss: 0.1134 - val_accuracy: 0.4134\n",
            "Epoch 36/100\n",
            "800/800 [==============================] - 5s 6ms/step - loss: 0.0441 - accuracy: 0.4575 - val_loss: 0.1469 - val_accuracy: 0.3386\n",
            "Epoch 37/100\n",
            "800/800 [==============================] - 5s 6ms/step - loss: 0.0516 - accuracy: 0.4112 - val_loss: 0.1302 - val_accuracy: 0.2520\n",
            "Epoch 38/100\n",
            "800/800 [==============================] - 5s 6ms/step - loss: 0.0436 - accuracy: 0.3925 - val_loss: 0.1268 - val_accuracy: 0.3898\n",
            "Epoch 39/100\n",
            "800/800 [==============================] - 5s 6ms/step - loss: 0.0588 - accuracy: 0.4175 - val_loss: 0.1418 - val_accuracy: 0.3071\n",
            "Epoch 40/100\n",
            "800/800 [==============================] - 5s 6ms/step - loss: 0.0550 - accuracy: 0.4150 - val_loss: 0.1098 - val_accuracy: 0.3071\n",
            "Epoch 41/100\n",
            "800/800 [==============================] - 4s 6ms/step - loss: 0.0436 - accuracy: 0.4112 - val_loss: 0.1301 - val_accuracy: 0.3583\n",
            "Epoch 42/100\n",
            "800/800 [==============================] - 4s 6ms/step - loss: 0.0526 - accuracy: 0.4525 - val_loss: 0.1232 - val_accuracy: 0.3504\n",
            "Epoch 43/100\n",
            "800/800 [==============================] - 4s 5ms/step - loss: 0.0469 - accuracy: 0.4263 - val_loss: 0.1545 - val_accuracy: 0.2362\n",
            "Epoch 44/100\n",
            "800/800 [==============================] - 4s 5ms/step - loss: 0.0443 - accuracy: 0.4412 - val_loss: 0.1609 - val_accuracy: 0.4016\n",
            "Epoch 45/100\n",
            "800/800 [==============================] - 5s 6ms/step - loss: 0.0367 - accuracy: 0.4850 - val_loss: 0.1692 - val_accuracy: 0.6063\n",
            "Epoch 46/100\n",
            "800/800 [==============================] - 5s 6ms/step - loss: 0.0446 - accuracy: 0.4412 - val_loss: 0.1360 - val_accuracy: 0.2953\n",
            "Epoch 47/100\n",
            "800/800 [==============================] - 4s 5ms/step - loss: 0.0352 - accuracy: 0.4725 - val_loss: 0.1756 - val_accuracy: 0.3071\n",
            "Epoch 48/100\n",
            "800/800 [==============================] - 4s 6ms/step - loss: 0.0403 - accuracy: 0.4387 - val_loss: 0.1401 - val_accuracy: 0.3583\n",
            "Epoch 49/100\n",
            "800/800 [==============================] - 4s 6ms/step - loss: 0.0423 - accuracy: 0.4512 - val_loss: 0.1211 - val_accuracy: 0.4291\n",
            "Epoch 50/100\n",
            "800/800 [==============================] - 5s 6ms/step - loss: 0.0442 - accuracy: 0.4450 - val_loss: 0.1391 - val_accuracy: 0.1614\n",
            "Epoch 51/100\n",
            "800/800 [==============================] - 5s 6ms/step - loss: 0.0427 - accuracy: 0.4775 - val_loss: 0.1184 - val_accuracy: 0.3150\n",
            "Epoch 52/100\n",
            "800/800 [==============================] - 5s 6ms/step - loss: 0.0346 - accuracy: 0.4663 - val_loss: 0.1192 - val_accuracy: 0.5512\n",
            "Epoch 53/100\n",
            "800/800 [==============================] - 4s 6ms/step - loss: 0.0434 - accuracy: 0.4638 - val_loss: 0.1487 - val_accuracy: 0.5394\n",
            "Epoch 54/100\n",
            "800/800 [==============================] - 4s 5ms/step - loss: 0.0319 - accuracy: 0.4375 - val_loss: 0.1421 - val_accuracy: 0.2835\n",
            "Epoch 55/100\n",
            "800/800 [==============================] - 5s 6ms/step - loss: 0.0406 - accuracy: 0.5050 - val_loss: 0.1019 - val_accuracy: 0.4055\n",
            "Epoch 56/100\n",
            "800/800 [==============================] - 5s 6ms/step - loss: 0.0465 - accuracy: 0.4750 - val_loss: 0.1271 - val_accuracy: 0.4724\n",
            "Epoch 57/100\n",
            "800/800 [==============================] - 5s 6ms/step - loss: 0.0370 - accuracy: 0.4162 - val_loss: 0.1306 - val_accuracy: 0.1890\n",
            "Epoch 58/100\n",
            "800/800 [==============================] - 5s 6ms/step - loss: 0.0367 - accuracy: 0.4875 - val_loss: 0.1051 - val_accuracy: 0.3622\n",
            "Epoch 59/100\n",
            "800/800 [==============================] - 4s 5ms/step - loss: 0.0308 - accuracy: 0.4625 - val_loss: 0.1238 - val_accuracy: 0.2559\n",
            "Epoch 60/100\n",
            "800/800 [==============================] - 4s 5ms/step - loss: 0.0337 - accuracy: 0.4538 - val_loss: 0.1366 - val_accuracy: 0.1220\n",
            "Epoch 61/100\n",
            "800/800 [==============================] - 5s 6ms/step - loss: 0.0307 - accuracy: 0.4512 - val_loss: 0.1120 - val_accuracy: 0.4016\n",
            "Epoch 62/100\n",
            "800/800 [==============================] - 4s 5ms/step - loss: 0.0373 - accuracy: 0.4800 - val_loss: 0.1205 - val_accuracy: 0.3465\n",
            "Epoch 63/100\n",
            "800/800 [==============================] - 5s 6ms/step - loss: 0.0437 - accuracy: 0.4238 - val_loss: 0.0909 - val_accuracy: 0.1378\n",
            "Epoch 64/100\n",
            "800/800 [==============================] - 4s 6ms/step - loss: 0.0405 - accuracy: 0.4338 - val_loss: 0.0961 - val_accuracy: 0.0906\n",
            "Epoch 65/100\n",
            "800/800 [==============================] - 4s 5ms/step - loss: 0.0522 - accuracy: 0.4487 - val_loss: 0.1391 - val_accuracy: 0.1693\n",
            "Epoch 66/100\n",
            "800/800 [==============================] - 5s 6ms/step - loss: 0.0260 - accuracy: 0.4675 - val_loss: 0.1070 - val_accuracy: 0.2402\n",
            "Epoch 67/100\n",
            "800/800 [==============================] - 5s 6ms/step - loss: 0.0341 - accuracy: 0.4563 - val_loss: 0.1240 - val_accuracy: 0.2087\n",
            "Epoch 68/100\n",
            "800/800 [==============================] - 5s 6ms/step - loss: 0.0417 - accuracy: 0.4325 - val_loss: 0.1253 - val_accuracy: 0.0906\n",
            "Epoch 69/100\n",
            "800/800 [==============================] - 5s 6ms/step - loss: 0.0274 - accuracy: 0.4700 - val_loss: 0.1284 - val_accuracy: 0.3110\n",
            "Epoch 70/100\n",
            "800/800 [==============================] - 5s 6ms/step - loss: 0.0334 - accuracy: 0.5163 - val_loss: 0.1462 - val_accuracy: 0.1929\n",
            "Epoch 71/100\n",
            "800/800 [==============================] - 5s 6ms/step - loss: 0.0292 - accuracy: 0.4563 - val_loss: 0.1408 - val_accuracy: 0.1535\n",
            "Epoch 72/100\n",
            "800/800 [==============================] - 5s 6ms/step - loss: 0.0323 - accuracy: 0.4812 - val_loss: 0.2174 - val_accuracy: 0.2126\n",
            "Epoch 73/100\n",
            "800/800 [==============================] - 5s 6ms/step - loss: 0.0337 - accuracy: 0.4825 - val_loss: 0.1444 - val_accuracy: 0.4882\n",
            "Epoch 74/100\n",
            "800/800 [==============================] - 5s 6ms/step - loss: 0.0282 - accuracy: 0.5325 - val_loss: 0.1043 - val_accuracy: 0.4961\n",
            "Epoch 75/100\n",
            "800/800 [==============================] - 4s 5ms/step - loss: 0.0313 - accuracy: 0.4638 - val_loss: 0.1330 - val_accuracy: 0.3228\n",
            "Epoch 76/100\n",
            "800/800 [==============================] - 5s 6ms/step - loss: 0.0300 - accuracy: 0.5275 - val_loss: 0.1385 - val_accuracy: 0.3858\n",
            "Epoch 77/100\n",
            "800/800 [==============================] - 5s 6ms/step - loss: 0.0344 - accuracy: 0.4988 - val_loss: 0.1660 - val_accuracy: 0.1890\n",
            "Epoch 78/100\n",
            "800/800 [==============================] - 4s 6ms/step - loss: 0.0232 - accuracy: 0.5063 - val_loss: 0.2071 - val_accuracy: 0.6890\n",
            "Epoch 79/100\n",
            "800/800 [==============================] - 5s 6ms/step - loss: 0.0325 - accuracy: 0.4775 - val_loss: 0.1259 - val_accuracy: 0.3346\n",
            "Epoch 80/100\n",
            "800/800 [==============================] - 4s 6ms/step - loss: 0.0225 - accuracy: 0.4675 - val_loss: 0.1090 - val_accuracy: 0.2008\n",
            "Epoch 81/100\n",
            "800/800 [==============================] - 4s 5ms/step - loss: 0.0279 - accuracy: 0.4338 - val_loss: 0.1301 - val_accuracy: 0.2362\n",
            "Epoch 82/100\n",
            "800/800 [==============================] - 4s 5ms/step - loss: 0.0260 - accuracy: 0.4725 - val_loss: 0.1371 - val_accuracy: 0.4370\n",
            "Epoch 83/100\n",
            "800/800 [==============================] - 4s 5ms/step - loss: 0.0284 - accuracy: 0.5050 - val_loss: 0.1559 - val_accuracy: 0.1535\n",
            "Epoch 84/100\n",
            "800/800 [==============================] - 5s 6ms/step - loss: 0.0154 - accuracy: 0.4737 - val_loss: 0.1956 - val_accuracy: 0.4173\n",
            "Epoch 85/100\n",
            "800/800 [==============================] - 5s 6ms/step - loss: 0.0346 - accuracy: 0.4938 - val_loss: 0.1699 - val_accuracy: 0.4016\n",
            "Epoch 86/100\n",
            "800/800 [==============================] - 4s 5ms/step - loss: 0.0224 - accuracy: 0.5312 - val_loss: 0.1571 - val_accuracy: 0.2953\n",
            "Epoch 87/100\n",
            "800/800 [==============================] - 4s 5ms/step - loss: 0.0413 - accuracy: 0.4613 - val_loss: 0.1099 - val_accuracy: 0.3937\n",
            "Epoch 88/100\n",
            "800/800 [==============================] - 4s 5ms/step - loss: 0.0347 - accuracy: 0.5025 - val_loss: 0.1354 - val_accuracy: 0.2992\n",
            "Epoch 89/100\n",
            "800/800 [==============================] - 5s 6ms/step - loss: 0.0195 - accuracy: 0.5125 - val_loss: 0.1523 - val_accuracy: 0.5866\n",
            "Epoch 90/100\n",
            "800/800 [==============================] - 4s 5ms/step - loss: 0.0265 - accuracy: 0.4850 - val_loss: 0.1328 - val_accuracy: 0.1693\n",
            "Epoch 91/100\n",
            "800/800 [==============================] - 5s 6ms/step - loss: 0.0296 - accuracy: 0.4638 - val_loss: 0.1821 - val_accuracy: 0.1890\n",
            "Epoch 92/100\n",
            "800/800 [==============================] - 4s 5ms/step - loss: 0.0234 - accuracy: 0.4963 - val_loss: 0.1850 - val_accuracy: 0.1457\n",
            "Epoch 93/100\n",
            "800/800 [==============================] - 5s 6ms/step - loss: 0.0187 - accuracy: 0.4775 - val_loss: 0.2862 - val_accuracy: 0.5197\n",
            "Epoch 94/100\n",
            "800/800 [==============================] - 5s 6ms/step - loss: 0.0326 - accuracy: 0.4512 - val_loss: 0.1727 - val_accuracy: 0.1732\n",
            "Epoch 95/100\n",
            "800/800 [==============================] - 5s 6ms/step - loss: 0.0174 - accuracy: 0.4725 - val_loss: 0.2273 - val_accuracy: 0.1024\n",
            "Epoch 96/100\n",
            "800/800 [==============================] - 5s 6ms/step - loss: 0.0172 - accuracy: 0.4688 - val_loss: 0.2247 - val_accuracy: 0.0512\n",
            "Epoch 97/100\n",
            "800/800 [==============================] - 5s 6ms/step - loss: 0.0290 - accuracy: 0.4275 - val_loss: 0.2140 - val_accuracy: 0.0315\n",
            "Epoch 98/100\n",
            "800/800 [==============================] - 5s 6ms/step - loss: 0.0300 - accuracy: 0.4812 - val_loss: 0.2154 - val_accuracy: 0.0433\n",
            "Epoch 99/100\n",
            "800/800 [==============================] - 5s 6ms/step - loss: 0.0250 - accuracy: 0.4700 - val_loss: 0.1767 - val_accuracy: 0.0433\n",
            "Epoch 100/100\n",
            "800/800 [==============================] - 4s 6ms/step - loss: 0.0285 - accuracy: 0.4663 - val_loss: 0.1800 - val_accuracy: 0.1575\n"
          ]
        }
      ],
      "source": [
        "history = model.fit(train_dataset, epochs=100, validation_data=test_dataset, callbacks=[model_checkpoint_callback])"
      ]
    },
    {
      "cell_type": "code",
      "execution_count": 13,
      "metadata": {},
      "outputs": [
        {
          "name": "stdout",
          "output_type": "stream",
          "text": [
            "254/254 [==============================] - 1s 2ms/step - loss: 0.1800 - accuracy: 0.1575\n"
          ]
        },
        {
          "data": {
            "text/plain": [
              "[0.17996624112129211, 0.15748031437397003]"
            ]
          },
          "execution_count": 13,
          "metadata": {},
          "output_type": "execute_result"
        }
      ],
      "source": [
        "model.evaluate(test_dataset)"
      ]
    },
    {
      "cell_type": "code",
      "execution_count": 14,
      "metadata": {
        "colab": {
          "base_uri": "https://localhost:8080/"
        },
        "id": "bLEhpsco79gj",
        "outputId": "70197a24-12c1-4ef0-a4f7-8c38976fb506"
      },
      "outputs": [
        {
          "name": "stdout",
          "output_type": "stream",
          "text": [
            "254/254 [==============================] - 1s 3ms/step\n"
          ]
        },
        {
          "data": {
            "text/plain": [
              "(False, False, False, True)"
            ]
          },
          "execution_count": 14,
          "metadata": {},
          "output_type": "execute_result"
        }
      ],
      "source": [
        "predictions = (model.predict(test_dataset) < 0.5)[0]\n",
        "tuple(predictions)"
      ]
    },
    {
      "cell_type": "code",
      "execution_count": null,
      "metadata": {},
      "outputs": [],
      "source": []
    },
    {
      "cell_type": "markdown",
      "metadata": {
        "id": "w1LgB-CM-6rB"
      },
      "source": []
    }
  ],
  "metadata": {
    "colab": {
      "provenance": []
    },
    "kernelspec": {
      "display_name": "Python 3",
      "name": "python3"
    },
    "language_info": {
      "codemirror_mode": {
        "name": "ipython",
        "version": 3
      },
      "file_extension": ".py",
      "mimetype": "text/x-python",
      "name": "python",
      "nbconvert_exporter": "python",
      "pygments_lexer": "ipython3",
      "version": "3.11.7"
    }
  },
  "nbformat": 4,
  "nbformat_minor": 0
}
